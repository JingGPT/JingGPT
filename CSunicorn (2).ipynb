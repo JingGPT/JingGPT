{
  "nbformat": 4,
  "nbformat_minor": 0,
  "metadata": {
    "colab": {
      "provenance": []
    },
    "kernelspec": {
      "name": "python3",
      "display_name": "Python 3"
    },
    "language_info": {
      "name": "python"
    }
  },
  "cells": [
    {
      "cell_type": "code",
      "source": [
        "import csv"
      ],
      "metadata": {
        "id": "-jbdtgggym35"
      },
      "execution_count": 5,
      "outputs": []
    },
    {
      "cell_type": "code",
      "source": [
        "# command + z = undo, command + / = hash highlighted"
      ],
      "metadata": {
        "id": "lLSe0CrLQEyd"
      },
      "execution_count": 6,
      "outputs": []
    },
    {
      "cell_type": "code",
      "source": [
        "File_Name='/content/PROJECT (1).csv'"
      ],
      "metadata": {
        "id": "EewpfGwvyn3h"
      },
      "execution_count": 7,
      "outputs": []
    },
    {
      "cell_type": "code",
      "source": [
        "# from google.colab import drive\n",
        "# drive.mount('/content/UnicornDataFinal.numbers')"
      ],
      "metadata": {
        "id": "Fv04xkMx-oLR"
      },
      "execution_count": 8,
      "outputs": []
    },
    {
      "cell_type": "code",
      "source": [
        "with open(File_Name) as csv_file:\n",
        "    csv_reader = csv.reader(csv_file, delimiter=',')    \n",
        "    line_count=0\n",
        "\n",
        "    for row in csv_reader:\n",
        "      print (line_count, row)\n",
        "      line_count=line_count+1\n",
        "      if line_count==5:\n",
        "        break"
      ],
      "metadata": {
        "colab": {
          "base_uri": "https://localhost:8080/"
        },
        "id": "ThxoxtU3yuP5",
        "outputId": "11390748-2380-4543-d522-742b18c6cd8c"
      },
      "execution_count": 9,
      "outputs": [
        {
          "output_type": "stream",
          "name": "stdout",
          "text": [
            "0 ['Company', 'Valuation(US$ billions)', 'Valuation date', 'Industry', 'Country/countries', 'Founder(s)']\n",
            "1 ['ByteDance', '140', 'June 2022[13]', 'Internet', 'China', 'Zhang Yiming, Liang Rubo']\n",
            "2 ['SpaceX', '127', 'June 2022[13]', 'Aerospace', 'US', 'Elon Musk']\n",
            "3 ['Shein', '100', 'June 2022[13]', 'E-commerce', 'China', 'Chris Xu']\n",
            "4 ['Stripe', '50', 'March 2023[13]', 'Financial services', 'US / Ireland', 'Patrick and John Collison']\n"
          ]
        }
      ]
    },
    {
      "cell_type": "code",
      "source": [],
      "metadata": {
        "id": "FvukJAs3QDIK"
      },
      "execution_count": 9,
      "outputs": []
    },
    {
      "cell_type": "code",
      "source": [
        "with open(File_Name) as csv_file:\n",
        "    csv_reader = csv.reader(csv_file, delimiter=',')    \n",
        "    line_count=0\n",
        "    Data=[]\n",
        "    for row in csv_reader:\n",
        "      if line_count==0:\n",
        "        Header=row\n",
        "      else:\n",
        "        Data.append(row)\n",
        "      line_count=line_count+1\n"
      ],
      "metadata": {
        "id": "GAdlv9EqyzFi"
      },
      "execution_count": 10,
      "outputs": []
    },
    {
      "cell_type": "code",
      "source": [
        "print(Header)\n",
        "print(len(Header))"
      ],
      "metadata": {
        "colab": {
          "base_uri": "https://localhost:8080/"
        },
        "id": "HKn-PYf6y2qq",
        "outputId": "05689c17-b754-4244-e36e-fca4981ee852"
      },
      "execution_count": 11,
      "outputs": [
        {
          "output_type": "stream",
          "name": "stdout",
          "text": [
            "['Company', 'Valuation(US$ billions)', 'Valuation date', 'Industry', 'Country/countries', 'Founder(s)']\n",
            "6\n"
          ]
        }
      ]
    },
    {
      "cell_type": "code",
      "source": [
        "print(Data)\n",
        "print(len(Data))"
      ],
      "metadata": {
        "colab": {
          "base_uri": "https://localhost:8080/"
        },
        "id": "Yxm7Unmzy4OU",
        "outputId": "b8af3617-5e86-4f2d-9bdb-afcc133ff732"
      },
      "execution_count": 12,
      "outputs": [
        {
          "output_type": "stream",
          "name": "stdout",
          "text": [
            "[['ByteDance', '140', 'June 2022[13]', 'Internet', 'China', 'Zhang Yiming, Liang Rubo'], ['SpaceX', '127', 'June 2022[13]', 'Aerospace', 'US', 'Elon Musk'], ['Shein', '100', 'June 2022[13]', 'E-commerce', 'China', 'Chris Xu'], ['Stripe', '50', 'March 2023[13]', 'Financial services', 'US / Ireland', 'Patrick and John Collison'], ['Canva', '40', 'September 2021[16]', 'Graphic design', 'Australia', 'Melanie Perkins, Clifford Obrecht, Cameron Adams'], ['Checkout.com', '40', 'June 2022[13]', 'Financial technology', 'UK', 'Guillaume Pousaz'], ['Instacart', '24', 'March 2022[13]', 'Retail', 'US', 'Apoorva Mehta, Max Mullen, Brandon Leonardo'], ['Databricks', '38', 'June 2022[13]', 'Software', 'US', 'Ali Ghodsi'], ['Revolut', '33', 'June 2022[13]', 'Financial technology', 'UK', 'Nikolay Storonsky, Vlad Yatsenko'], ['Epic Games', '31.5', 'June 2022[13]', 'Video games', 'US', 'Tim Sweeney'], ['Telegram', '30', 'January 2021[17]', 'Internet', 'UK / UAE', 'Nikolai and Pavel Durov'], ['Fanatics', '27', 'June 2022[13]', 'E-commerce', 'US', 'Alan Trager, Mitch Trager, Michael Rubin[18]'], ['Chime', '25', 'June 2022[13]', 'Financial services', 'US', 'Chris Britt and Ryan King'], [\"Byju's\", '22', 'June 2022[13]', 'Educational technology', 'India', 'Byju Raveendran, Divya Gokulnath'], ['J&T Express', '20', 'June 2022[13]', 'Logistics', 'Indonesia', 'Jet Lee, Tony Chen'], ['Xiaohongshu', '20', 'June 2022[13]', 'E-commerce', 'China', 'Miranda Qu Fang, Charlwin Mao Wenchao'], ['Miro', '17.5', 'January 2022[19]', 'Software', 'US', 'Andrey Khusid'], ['PayFit', '2.1', 'January 2022[20]', 'Software', 'France', 'Ghislain de Fontenay, Firmin Zoccchetto, Florian Fournier'], ['Trendyol', '16.5', 'Mayv2021[22]', 'E-commerce', 'Turkey', 'Demet Mutlu'], ['Discord', '15', 'September 2021[24]', 'Software', 'US', 'Jason Citron, Stanislav Vishnevsky'], ['DJI', '15', 'September 2016[1]', 'Technology', 'China', 'Frank Wang (Wang Tao)'], ['GoPuff', '15', 'July 2021[25]', 'E-commerce', 'US', 'Yakir Gola, Rafael Ilishayev'], ['Plaid', '13.4', 'April 2021[26]', 'Financial technology', 'US', 'Zach Perret, William Hockey'], ['Brex', '12.3', 'October 2021[33]', 'Finance', 'US', 'Henrique Dubugras and Pedro Franceschi'], ['Biosplice Therapeutics', '12', 'April 2021[34]', 'Health', 'US', 'Osman Kibar'], ['Getir', '12', 'March 2022[37]', 'Retail', 'Turkey', 'Nazõm Salur'], ['Airtable', '11', 'December 2021[39]', 'Collaborative software', 'US', 'Howie Liu, Andrew Ofstad, Emmett Nicholas'], ['Bolt Financial', '11', 'January 2022[42]', 'Financial technology', 'US', 'Ryan Breslow'], ['Alchemy', '10.2', 'January 2022 [43]', 'Blockchain', 'US', 'Joe Lau and Nikil Viswanathan'], ['Swiggy', '10.7', 'January 2022[44]', 'Food delivery', 'India', 'Nandan Reddy, Sriharsha Majety'], ['Figma', '10', 'June 2021[48]', 'Software', 'US', 'Dylan Field and Evan Wallace'], ['Gusto', '10', 'August 2021[49]', 'Software', 'US', 'Joshua Reeves and Edward Kim'], ['Reddit', '10', 'August 2021[53]', 'Internet media', 'US', 'Steve Huffman, Aaron Swartz, Alexis Ohanian'], ['Talkdesk', '10', 'August 2021[55]', 'Software as a service', 'Portugal / US', 'Cristina Fonseca, Tiago Paiva'], ['Oyo', '9.6', 'August 2021[56]', 'Hospitality', 'India', 'Ritesh Agarwal'], ['Tanium', '9', 'June 2020[62]', 'Cybersecurity', 'US', 'David Hindawi, Orion Hindawi'], ['Bolt', '8.4', 'January 2022[67]', 'Transportation', 'Estonia', 'Markus Villig'], ['Dream11', '8', 'November 2021[71]', 'Fantasy sports', 'India', 'Harsh Jain, Bhavit Sheth'], ['Flexport', '8', 'February 2022[72]', 'Logistics', 'US', 'Ryan Petersen'], ['StarkWare Industries', '8', 'May 2022 [73]', 'Blockchain', 'Israel', 'Eli Ben-Sasson, Michael Riabzev, Uri Kolodny, Alessandro Chiesa'], ['Netskope', '7.5', 'July 2021[76]', 'Computer security', 'US', 'Sanjay Beri, Lebin Cheng, Ravi Ithal, Krishna Narayanaswamy'], ['Razorpay', '7.5', 'December 2021[77]', 'Financial technology', 'India', 'Harshil Mathur, Shashank Kumar'], ['Carta', '7.4', 'August 2021[78]', 'Software', 'US', 'Henry Ward'], ['Ola Cabs', '7.3', 'December 2021[79]', 'Transportation', 'India', 'Bhavish Aggarwal, Ankit Bhati'], ['TripActions', '7.25', 'October 2021[82]', 'Travel', 'US', 'Ariel Cohen and Ilan Twig'], ['Yanolja', '6.7', 'July 2021[86]', 'Hospitality', 'South Korea', 'Lee Su-jin'], ['Klarna', '6.5', 'July 2022[88]', 'Financial technology', 'Sweden', 'Sebastian Siemiatkowski, Niklas Adalberth, Victor Jacobsson'], ['Rippling', '11.25', 'August 2022[90]', 'Workforce management', 'US', 'Parker Conrad'], ['CRED', '6.4', 'June 2022[91]', 'Financial technology', 'India', 'Kunal Shah'], ['PharmEasy', '5.6', 'October 2021[101]', 'Health technology', 'India', 'Siddharth Shah'], ['PhonePe', '5.5', 'December 2020[104]', 'Financial technology', 'India', 'Sameer Nigam, Rahul Chari'], ['Pony.ai', '5.3', 'November 2020[106]', 'Artificial intelligence', 'China / US', 'James Peng, Tiancheng Lou'], ['Collibra', '5', 'January 2019[112]', 'Data governance', 'Belgium', 'Pieter De Leenheer, Felix Van de Maele, Stijn Christiaens'], ['Thrasio', '5', 'October 2021[113]', 'Holding company', 'US', 'Josh Silberstein and Carlos Cashman'], ['OfBusiness', '5', 'December 2021[118]', 'B2B e-commerce', 'India', 'Bhuvan Gupta, Vasant Sridhar, Ruchi Kalra, Nitin Jain, Asish Mohapatra'], ['Ola Electric', '5', 'January 2022[119]', 'Electric vehicles', 'India', 'Bhavish Aggarwal'], ['GetBlock', '4.6', 'June 2020[123]', 'Blockchain', 'Georgia', 'Steven Lloyd'], ['Animoca Brands', '5', 'January 2022[126]', 'Blockchain gaming', 'Hong Kong', 'Yat Siu'], ['Meesho', '4.9', 'September 2021[128]', 'E-commerce', 'India', 'Vidit Aatrey, Sanjeev Barnwal'], ['Anduril Industries', '4.6', 'June 2021[130]', 'Defense technology', 'US', 'Palmer Luckey'], ['Vinted', '4.5', 'May 2021[134]', 'Marketplace', 'Lithuania', 'Milda Mitkut_, Justas Janauskas'], ['BrowserStack', '4', 'June 2021[144]', 'Software', 'India', 'Ritesh Arora, Nakul Aggarwal'], ['Clubhouse', '4', 'April 2021[145]', 'Messaging', 'US', 'Paul Davison and Rohan Seth'], ['Patreon', '4', 'April 2021[152]', 'Online membership service', 'US', 'Jack Conte, Sam Yam'], ['ShareChat', '3.7', 'December 2021[161]', 'Social network', 'India', 'Ankush Sachdeva, Bhanu Pratap Singh, Farid Ahsan'], ['Digit Insurance', '3.5', 'July 2021[167]', 'Insurance', 'India', 'Kamesh Goyal'], ['CARS24', '3.3', 'December 2021[172]', 'Marketplace', 'India', 'Vikram Chopra, Mehul Agrawal, Gajendra Jangid and Ruchit Agarwal'], ['Rubrik', '3.3', 'January 2019[174]', 'Computer storage', 'US', 'Bipul Sinha, Arvind Jain, Soham Mazumdar, Arvind Nithrakashyap'], ['Unacademy', '3.4', 'August 2021[179]', 'Educational technology', 'India', 'Gaurav Munjal'], ['Thumbtack', '3.2', 'June 2021[182]', 'Software', 'US', 'Marco Zappacosta'], ['ApplyBoard', '3.2', 'June 2021[183]', 'Educational technology', 'Canada', 'Martin Basiri, Massi Basiri, Meti Basiri'], ['Udaan', '3.1', 'January 2021[192]', 'B2B e-commerce', 'India', 'Vaibhav Gupta, Amod Malviya, Sujeet Kumar'], ['Automattic', '3', 'September 2019[198]', 'Internet', 'US', 'Matt Mullenweg'], ['Calendly', '3', 'January 2021[199]', 'Software', 'US', 'Tope Awotona[200]'], ['Groww', '3', 'April 2021[204]', 'Financial technology', 'India', 'Lalit Keshre, Harsh Jain, Ishan Bansal, Neeraj Singh'], ['Pine Labs', '5', 'February 2022[209]', 'Financial technology', 'India', 'Lokvir Kapoor, Rajul Garg, Tarun Upaday'], ['Upstox', '3', 'November 2021[214]', 'Financial technology', 'India', 'Ravi Kumar, Kavitha Subramanian, Shrini Viswanath'], ['BharatPe', '2.8', 'August 2021[221]', 'Financial technology', 'India', 'Ashneer Grover'], ['Icertis', '2.8', 'March 2021[223]', 'Software', 'India / US', 'Samir Bodas, Monish Darda.'], ['Infra.Market', '2.5', 'August 2021[244]', 'Marketplace', 'India', 'Aaditya Sharda, Souvik Sengupta'], ['DriveNets', '2.5', 'August 2022[245]', 'Network operating system, Software-defined networking, Software as a service', 'Israel', 'Ido Susan, Hillel Kobrinsky'], ['Lenskart', '2.5', 'May 2021[246]', 'Retail', 'India', 'Peyush Bansal, Amit Chaudhary, Sumeet Kapahi'], ['BitSight', '2.4', 'September 2021[249]', 'Cybersecurity', 'US', 'Nagarjuna Venna, Stephen Boyer'], ['Wemakeprice', '2.33', 'September 2015[252]', 'E-commerce', 'South Korea', 'Huh Min'], ['Zume', '2.25', 'November 2018[259]', 'Food packaging, Logistics', 'US', 'Alex Garden, Julia Collins'], ['bKash', '2', 'November 2021[272][273]', 'Mobile financial services', 'Bangladesh', 'Kamal Quadir'], ['Hive', '2', 'April 2021[278]', 'Artificial intelligence', 'US', 'Kevin Guo, Dmitriy Karpman'], ['Mural', '2', 'July 2021[279]', 'Technology', 'Argentina / US', 'Patricio Jutard'], ['Calm', '2', 'December 2020[283]', 'Digital health', 'US', 'Michael Acton Smith, Alex Tew'], ['CoinSwitch Kuber', '1.9', 'October 2021[307]', 'Cryptocurrency', 'India', 'Ashish Singhal, Vimal Sagar Tiwari, Govind Soni'], ['BillDesk', '1.8', 'November 2018[310]', 'Financial technology', 'India', 'M.N. Srinivasu, Ajay Kaushal, Karthik Ganapathy'], ['Spinny', '1.75', 'November 2021[315]', 'Marketplace', 'India', 'Niraj Singh, Ramanshu Mahaur, Ganesh Pawar, Mohit Gupta'], ['Harness', '1.7', 'June 2021[320]', 'Software', 'US', 'Jyoti Bansal'], ['Nord Security', '1.6', 'April 2022[335]', 'VPN service', 'Lithuania', 'Tom Okman, Eimantas Sabaliauskas, Jonas Karklys'], ['SafetyCulture', '1.6', 'May 2021[336]', 'Technology', 'Australia', 'Luke Anear'], ['Zeta', '1.45', 'May 2021[359]', 'Financial technology', 'India', 'Bhavin Turakhia, Ramki Gaddipati'], ['Epidemic Sound', '1.4', 'March 2021[364]', 'Music', 'Sweden', 'Peer, David Stenmarck, Oscar Hšglund, Jan Zachrisson'], ['FiscalNote', '1.4', 'May 2021[365]', 'Data analytics', 'US', 'Timothy Hwang, Gerald Yao, Jonathan Chen'], ['Panther Labs, Inc.', '1.4', 'December 2021[370]', 'Computer security', 'US', 'Jack Naglieri'], ['G2', '1.3', 'June 2021[382]', 'Technology', 'US', 'Tim Handorf, Godard Abel, Matt Gorniak, Mark Myers, Mike Wheeler'], ['Innovaccer', '1.3', 'February 2021[383]', 'Health care', 'India / US', 'Abhinav Shashank, Kanav Hasija, Sandeep Gupta'], ['Mamaearth', '1.2', 'January 2022[396]', 'Personal care', 'India', 'Varun Alagh and Ghazal Alagh'], ['Alation', '1.2', 'June 2021[400]', 'Software', 'US', 'Satyen Sangani, Aaron Kalb, Feng Niu, and Venky Ganti'], ['Droom', '1.2', 'July 2021[404]', 'Marketplace', 'India', 'Sandeep Aggarwal'], ['CoinDCX', '1.1', 'August 2021[421]', 'Cryptocurrency', 'India', 'Sumit Gupta, Neeraj Khandelwal'], ['Purplle', '1.1', 'June 2022[422]', 'E-Commerce', 'India', 'Manish Taneja, Rahul Dash'], ['Benevity', '1.1', 'December 2020[429]', 'Software as a service', 'Canada', 'Bryan de Lottinville'], ['Instabase', '1.05', 'October 2019[431]', 'Software', 'US', 'Anant Bhardwaj'], ['Rivigo', '1.05', 'October 2019[432]', 'Logistics', 'India', 'Deepak Garg, Gazal Kalra'], ['Pentera', '1', 'January 2022[433]', 'Cybersecurity', 'Israel', 'Arik Liberzon, Arik Faingold[434]'], ['Gymshark', '1', 'August 2020[436]', 'Sportswear', 'UK', 'Ben Francis, Lewis Morgan'], ['Cadence Solutions, Inc.', '1', 'December 2021[451]', 'Healthcare', 'US', 'Chris Altchek'], ['Flexe', '1', 'July 2022[463]', 'Logistics', 'US', 'Karl Siebrecht'], ['Grover', '1', 'April 2022 [475]', 'E-commerce', 'Germany', 'Michael Cassau'], ['Infobip', '1', 'July 2020[481]', 'Cloud communications', 'Croatia / UK', 'Silvio Kuti_, Izabel Jeleni_, Roberto Kuti_'], ['Injective', '1', 'April 2021[482]', 'Financial technology', 'US', 'Eric Chen, Albert Chon'], ['InMobi', '1', 'May 2017[483]', 'Internet', 'India', 'Naveen Tewari, Mohit Saxena, Amit Gupta and Abhay Singhal'], ['Licious', '1', 'October 2021[491]', 'Retail', 'India', 'Abhay Hanjura, Vivek Gupta'], ['Moglix', '1', 'May 2021[507]', 'E-commerce', 'India / Singapore', 'Rahul Garg'], ['Opn (Synqa)', '1', 'May 2022[515]', 'Financial technology', 'Japan', 'Jun Hasegawa, Ezra Don Harinsut'], ['PandaDoc', '1', 'September 2021[517]', 'Software as a service', 'US', 'Mikita Mikado, Sergey Barysiuk'], ['Perimeter 81', '1', 'June 2022 [520]', 'Network security', 'Israel', 'Sagi Gidali, Amit Bareket'], ['Picsart', '1', 'August 2021[521]', 'Graphic design', 'Armenia / US', 'Hovhannes Avoyan, Artavazd Mehrabyan, Mikayel Vardanyan'], ['Snapdeal', '1', 'May 2017[5]', 'E-commerce', 'India', 'Rohit Bansal, Kunal Bahl'], ['Staffbase', '1.1', 'March 2022[540]', 'Software as a service', 'Germany', 'Frank Wolf, Lutz Gerlach, Martin Bohringer'], ['VerSe Innovation', '1', 'December 2020[554]', 'Technology', 'India', 'Virendra Gupta'], ['ReliaQuest', '1', 'December 2021[563]', 'Cybersecurity', 'US', 'Brian Murphy'], ['Scandit', '1', 'February 2022[564]', 'Software', 'Switzerland', 'Samuel Mueller, Christian Floerkemeier, Christof Roduner'], ['BlueVoyant', '1', 'February 2022[565]', 'Cybersecurity', 'US', 'Jim Rosenthal, Chris Meissner, Jim Thompson, and Arun Sankaran'], ['Neo Financial', '1', 'May 2022[567]', 'Financial technology', 'Canada', 'Andrew Chau, Jeff Adamson, Kris Read'], ['Physics Wallah', '1.1', 'June 2022[568]', 'Educational technology', 'India', 'Alakh Pandey'], ['OneCard', '1.4', 'July 2022[569]', 'Financial technology', 'India', 'Anurag Sinha, Rupesh Kumar, Vaibhav Hathi'], ['5ire', '1.5', 'July 2022[570]', 'Technology', 'India', 'Pratik Gauri']]\n",
            "133\n"
          ]
        }
      ]
    },
    {
      "cell_type": "code",
      "source": [
        "Data_dict={}\n",
        "\n",
        "for name in Header:\n",
        "  Data_dict[name]=[]\n",
        "\n",
        "print (Data_dict)"
      ],
      "metadata": {
        "colab": {
          "base_uri": "https://localhost:8080/"
        },
        "id": "Lc49NJ4ny9Fe",
        "outputId": "51ceb43e-b9f3-4e52-98b8-2ff4abc169c5"
      },
      "execution_count": 13,
      "outputs": [
        {
          "output_type": "stream",
          "name": "stdout",
          "text": [
            "{'Company': [], 'Valuation(US$ billions)': [], 'Valuation date': [], 'Industry': [], 'Country/countries': [], 'Founder(s)': []}\n"
          ]
        }
      ]
    },
    {
      "cell_type": "code",
      "source": [
        "Data_dict={}\n",
        "\n",
        "idx=0\n",
        "for name in Header:\n",
        "  Data_dict[name]=[]\n",
        "\n",
        "  for row in Data:\n",
        "    if name=='Company' or name=='Industry' or name =='Country/countries':\n",
        "      Data_dict[name].append(row[idx])\n",
        "    else:\n",
        "      if row[idx].replace('.','').isdigit():\n",
        "        Data_dict[name].append(float(row[idx]))\n",
        "      else:\n",
        "        Data_dict[name].append(None)\n",
        "\n",
        "\n",
        "  idx=idx+1\n",
        "\n",
        "print (Data_dict)\n"
      ],
      "metadata": {
        "colab": {
          "base_uri": "https://localhost:8080/"
        },
        "id": "m9LKKwiLzBqY",
        "outputId": "228685fa-32c2-4e20-ea53-2a253ce96932"
      },
      "execution_count": 14,
      "outputs": [
        {
          "output_type": "stream",
          "name": "stdout",
          "text": [
            "{'Company': ['ByteDance', 'SpaceX', 'Shein', 'Stripe', 'Canva', 'Checkout.com', 'Instacart', 'Databricks', 'Revolut', 'Epic Games', 'Telegram', 'Fanatics', 'Chime', \"Byju's\", 'J&T Express', 'Xiaohongshu', 'Miro', 'PayFit', 'Trendyol', 'Discord', 'DJI', 'GoPuff', 'Plaid', 'Brex', 'Biosplice Therapeutics', 'Getir', 'Airtable', 'Bolt Financial', 'Alchemy', 'Swiggy', 'Figma', 'Gusto', 'Reddit', 'Talkdesk', 'Oyo', 'Tanium', 'Bolt', 'Dream11', 'Flexport', 'StarkWare Industries', 'Netskope', 'Razorpay', 'Carta', 'Ola Cabs', 'TripActions', 'Yanolja', 'Klarna', 'Rippling', 'CRED', 'PharmEasy', 'PhonePe', 'Pony.ai', 'Collibra', 'Thrasio', 'OfBusiness', 'Ola Electric', 'GetBlock', 'Animoca Brands', 'Meesho', 'Anduril Industries', 'Vinted', 'BrowserStack', 'Clubhouse', 'Patreon', 'ShareChat', 'Digit Insurance', 'CARS24', 'Rubrik', 'Unacademy', 'Thumbtack', 'ApplyBoard', 'Udaan', 'Automattic', 'Calendly', 'Groww', 'Pine Labs', 'Upstox', 'BharatPe', 'Icertis', 'Infra.Market', 'DriveNets', 'Lenskart', 'BitSight', 'Wemakeprice', 'Zume', 'bKash', 'Hive', 'Mural', 'Calm', 'CoinSwitch Kuber', 'BillDesk', 'Spinny', 'Harness', 'Nord Security', 'SafetyCulture', 'Zeta', 'Epidemic Sound', 'FiscalNote', 'Panther Labs, Inc.', 'G2', 'Innovaccer', 'Mamaearth', 'Alation', 'Droom', 'CoinDCX', 'Purplle', 'Benevity', 'Instabase', 'Rivigo', 'Pentera', 'Gymshark', 'Cadence Solutions, Inc.', 'Flexe', 'Grover', 'Infobip', 'Injective', 'InMobi', 'Licious', 'Moglix', 'Opn (Synqa)', 'PandaDoc', 'Perimeter 81', 'Picsart', 'Snapdeal', 'Staffbase', 'VerSe Innovation', 'ReliaQuest', 'Scandit', 'BlueVoyant', 'Neo Financial', 'Physics Wallah', 'OneCard', '5ire'], 'Valuation(US$ billions)': [140.0, 127.0, 100.0, 50.0, 40.0, 40.0, 24.0, 38.0, 33.0, 31.5, 30.0, 27.0, 25.0, 22.0, 20.0, 20.0, 17.5, 2.1, 16.5, 15.0, 15.0, 15.0, 13.4, 12.3, 12.0, 12.0, 11.0, 11.0, 10.2, 10.7, 10.0, 10.0, 10.0, 10.0, 9.6, 9.0, 8.4, 8.0, 8.0, 8.0, 7.5, 7.5, 7.4, 7.3, 7.25, 6.7, 6.5, 11.25, 6.4, 5.6, 5.5, 5.3, 5.0, 5.0, 5.0, 5.0, 4.6, 5.0, 4.9, 4.6, 4.5, 4.0, 4.0, 4.0, 3.7, 3.5, 3.3, 3.3, 3.4, 3.2, 3.2, 3.1, 3.0, 3.0, 3.0, 5.0, 3.0, 2.8, 2.8, 2.5, 2.5, 2.5, 2.4, 2.33, 2.25, 2.0, 2.0, 2.0, 2.0, 1.9, 1.8, 1.75, 1.7, 1.6, 1.6, 1.45, 1.4, 1.4, 1.4, 1.3, 1.3, 1.2, 1.2, 1.2, 1.1, 1.1, 1.1, 1.05, 1.05, 1.0, 1.0, 1.0, 1.0, 1.0, 1.0, 1.0, 1.0, 1.0, 1.0, 1.0, 1.0, 1.0, 1.0, 1.0, 1.1, 1.0, 1.0, 1.0, 1.0, 1.0, 1.1, 1.4, 1.5], 'Valuation date': [None, None, None, None, None, None, None, None, None, None, None, None, None, None, None, None, None, None, None, None, None, None, None, None, None, None, None, None, None, None, None, None, None, None, None, None, None, None, None, None, None, None, None, None, None, None, None, None, None, None, None, None, None, None, None, None, None, None, None, None, None, None, None, None, None, None, None, None, None, None, None, None, None, None, None, None, None, None, None, None, None, None, None, None, None, None, None, None, None, None, None, None, None, None, None, None, None, None, None, None, None, None, None, None, None, None, None, None, None, None, None, None, None, None, None, None, None, None, None, None, None, None, None, None, None, None, None, None, None, None, None, None, None], 'Industry': ['Internet', 'Aerospace', 'E-commerce', 'Financial services', 'Graphic design', 'Financial technology', 'Retail', 'Software', 'Financial technology', 'Video games', 'Internet', 'E-commerce', 'Financial services', 'Educational technology', 'Logistics', 'E-commerce', 'Software', 'Software', 'E-commerce', 'Software', 'Technology', 'E-commerce', 'Financial technology', 'Finance', 'Health', 'Retail', 'Collaborative software', 'Financial technology', 'Blockchain', 'Food delivery', 'Software', 'Software', 'Internet media', 'Software as a service', 'Hospitality', 'Cybersecurity', 'Transportation', 'Fantasy sports', 'Logistics', 'Blockchain', 'Computer security', 'Financial technology', 'Software', 'Transportation', 'Travel', 'Hospitality', 'Financial technology', 'Workforce management', 'Financial technology', 'Health technology', 'Financial technology', 'Artificial intelligence', 'Data governance', 'Holding company', 'B2B e-commerce', 'Electric vehicles', 'Blockchain', 'Blockchain gaming', 'E-commerce', 'Defense technology', 'Marketplace', 'Software', 'Messaging', 'Online membership service', 'Social network', 'Insurance', 'Marketplace', 'Computer storage', 'Educational technology', 'Software', 'Educational technology', 'B2B e-commerce', 'Internet', 'Software', 'Financial technology', 'Financial technology', 'Financial technology', 'Financial technology', 'Software', 'Marketplace', 'Network operating system, Software-defined networking, Software as a service', 'Retail', 'Cybersecurity', 'E-commerce', 'Food packaging, Logistics', 'Mobile financial services', 'Artificial intelligence', 'Technology', 'Digital health', 'Cryptocurrency', 'Financial technology', 'Marketplace', 'Software', 'VPN service', 'Technology', 'Financial technology', 'Music', 'Data analytics', 'Computer security', 'Technology', 'Health care', 'Personal care', 'Software', 'Marketplace', 'Cryptocurrency', 'E-Commerce', 'Software as a service', 'Software', 'Logistics', 'Cybersecurity', 'Sportswear', 'Healthcare', 'Logistics', 'E-commerce', 'Cloud communications', 'Financial technology', 'Internet', 'Retail', 'E-commerce', 'Financial technology', 'Software as a service', 'Network security', 'Graphic design', 'E-commerce', 'Software as a service', 'Technology', 'Cybersecurity', 'Software', 'Cybersecurity', 'Financial technology', 'Educational technology', 'Financial technology', 'Technology'], 'Country/countries': ['China', 'US', 'China', 'US / Ireland', 'Australia', 'UK', 'US', 'US', 'UK', 'US', 'UK / UAE', 'US', 'US', 'India', 'Indonesia', 'China', 'US', 'France', 'Turkey', 'US', 'China', 'US', 'US', 'US', 'US', 'Turkey', 'US', 'US', 'US', 'India', 'US', 'US', 'US', 'Portugal / US', 'India', 'US', 'Estonia', 'India', 'US', 'Israel', 'US', 'India', 'US', 'India', 'US', 'South Korea', 'Sweden', 'US', 'India', 'India', 'India', 'China / US', 'Belgium', 'US', 'India', 'India', 'Georgia', 'Hong Kong', 'India', 'US', 'Lithuania', 'India', 'US', 'US', 'India', 'India', 'India', 'US', 'India', 'US', 'Canada', 'India', 'US', 'US', 'India', 'India', 'India', 'India', 'India / US', 'India', 'Israel', 'India', 'US', 'South Korea', 'US', 'Bangladesh', 'US', 'Argentina / US', 'US', 'India', 'India', 'India', 'US', 'Lithuania', 'Australia', 'India', 'Sweden', 'US', 'US', 'US', 'India / US', 'India', 'US', 'India', 'India', 'India', 'Canada', 'US', 'India', 'Israel', 'UK', 'US', 'US', 'Germany', 'Croatia / UK', 'US', 'India', 'India', 'India / Singapore', 'Japan', 'US', 'Israel', 'Armenia / US', 'India', 'Germany', 'India', 'US', 'Switzerland', 'US', 'Canada', 'India', 'India', 'India'], 'Founder(s)': [None, None, None, None, None, None, None, None, None, None, None, None, None, None, None, None, None, None, None, None, None, None, None, None, None, None, None, None, None, None, None, None, None, None, None, None, None, None, None, None, None, None, None, None, None, None, None, None, None, None, None, None, None, None, None, None, None, None, None, None, None, None, None, None, None, None, None, None, None, None, None, None, None, None, None, None, None, None, None, None, None, None, None, None, None, None, None, None, None, None, None, None, None, None, None, None, None, None, None, None, None, None, None, None, None, None, None, None, None, None, None, None, None, None, None, None, None, None, None, None, None, None, None, None, None, None, None, None, None, None, None, None, None]}\n"
          ]
        }
      ]
    },
    {
      "cell_type": "code",
      "source": [
        "Data_dict['Company']"
      ],
      "metadata": {
        "colab": {
          "base_uri": "https://localhost:8080/"
        },
        "id": "Dmi560jMzEgF",
        "outputId": "4530d59f-83e6-4c1b-bc4a-4a3b91736bae"
      },
      "execution_count": 15,
      "outputs": [
        {
          "output_type": "execute_result",
          "data": {
            "text/plain": [
              "['ByteDance',\n",
              " 'SpaceX',\n",
              " 'Shein',\n",
              " 'Stripe',\n",
              " 'Canva',\n",
              " 'Checkout.com',\n",
              " 'Instacart',\n",
              " 'Databricks',\n",
              " 'Revolut',\n",
              " 'Epic Games',\n",
              " 'Telegram',\n",
              " 'Fanatics',\n",
              " 'Chime',\n",
              " \"Byju's\",\n",
              " 'J&T Express',\n",
              " 'Xiaohongshu',\n",
              " 'Miro',\n",
              " 'PayFit',\n",
              " 'Trendyol',\n",
              " 'Discord',\n",
              " 'DJI',\n",
              " 'GoPuff',\n",
              " 'Plaid',\n",
              " 'Brex',\n",
              " 'Biosplice Therapeutics',\n",
              " 'Getir',\n",
              " 'Airtable',\n",
              " 'Bolt Financial',\n",
              " 'Alchemy',\n",
              " 'Swiggy',\n",
              " 'Figma',\n",
              " 'Gusto',\n",
              " 'Reddit',\n",
              " 'Talkdesk',\n",
              " 'Oyo',\n",
              " 'Tanium',\n",
              " 'Bolt',\n",
              " 'Dream11',\n",
              " 'Flexport',\n",
              " 'StarkWare Industries',\n",
              " 'Netskope',\n",
              " 'Razorpay',\n",
              " 'Carta',\n",
              " 'Ola Cabs',\n",
              " 'TripActions',\n",
              " 'Yanolja',\n",
              " 'Klarna',\n",
              " 'Rippling',\n",
              " 'CRED',\n",
              " 'PharmEasy',\n",
              " 'PhonePe',\n",
              " 'Pony.ai',\n",
              " 'Collibra',\n",
              " 'Thrasio',\n",
              " 'OfBusiness',\n",
              " 'Ola Electric',\n",
              " 'GetBlock',\n",
              " 'Animoca Brands',\n",
              " 'Meesho',\n",
              " 'Anduril Industries',\n",
              " 'Vinted',\n",
              " 'BrowserStack',\n",
              " 'Clubhouse',\n",
              " 'Patreon',\n",
              " 'ShareChat',\n",
              " 'Digit Insurance',\n",
              " 'CARS24',\n",
              " 'Rubrik',\n",
              " 'Unacademy',\n",
              " 'Thumbtack',\n",
              " 'ApplyBoard',\n",
              " 'Udaan',\n",
              " 'Automattic',\n",
              " 'Calendly',\n",
              " 'Groww',\n",
              " 'Pine Labs',\n",
              " 'Upstox',\n",
              " 'BharatPe',\n",
              " 'Icertis',\n",
              " 'Infra.Market',\n",
              " 'DriveNets',\n",
              " 'Lenskart',\n",
              " 'BitSight',\n",
              " 'Wemakeprice',\n",
              " 'Zume',\n",
              " 'bKash',\n",
              " 'Hive',\n",
              " 'Mural',\n",
              " 'Calm',\n",
              " 'CoinSwitch Kuber',\n",
              " 'BillDesk',\n",
              " 'Spinny',\n",
              " 'Harness',\n",
              " 'Nord Security',\n",
              " 'SafetyCulture',\n",
              " 'Zeta',\n",
              " 'Epidemic Sound',\n",
              " 'FiscalNote',\n",
              " 'Panther Labs, Inc.',\n",
              " 'G2',\n",
              " 'Innovaccer',\n",
              " 'Mamaearth',\n",
              " 'Alation',\n",
              " 'Droom',\n",
              " 'CoinDCX',\n",
              " 'Purplle',\n",
              " 'Benevity',\n",
              " 'Instabase',\n",
              " 'Rivigo',\n",
              " 'Pentera',\n",
              " 'Gymshark',\n",
              " 'Cadence Solutions, Inc.',\n",
              " 'Flexe',\n",
              " 'Grover',\n",
              " 'Infobip',\n",
              " 'Injective',\n",
              " 'InMobi',\n",
              " 'Licious',\n",
              " 'Moglix',\n",
              " 'Opn (Synqa)',\n",
              " 'PandaDoc',\n",
              " 'Perimeter 81',\n",
              " 'Picsart',\n",
              " 'Snapdeal',\n",
              " 'Staffbase',\n",
              " 'VerSe Innovation',\n",
              " 'ReliaQuest',\n",
              " 'Scandit',\n",
              " 'BlueVoyant',\n",
              " 'Neo Financial',\n",
              " 'Physics Wallah',\n",
              " 'OneCard',\n",
              " '5ire']"
            ]
          },
          "metadata": {},
          "execution_count": 15
        }
      ]
    },
    {
      "cell_type": "code",
      "source": [
        "def CSV_Data_Reader(File_Name, Seprator, NonNumerical):\n",
        "  '''\n",
        "  This function takes a csv file and generate a dictionary\n",
        "  The keys of the dictionary are the column names\n",
        "  Values of the dictionary are columns of the data\n",
        "  '''\n",
        "  import csv\n",
        "  with open(File_Name) as csv_file:\n",
        "    csv_reader = csv.reader(csv_file, delimiter=Seprator)    \n",
        "    line_count=0\n",
        "    Data=[]\n",
        "    for row in csv_reader:\n",
        "      if line_count==0:\n",
        "        Header=row\n",
        "      else:\n",
        "        Data.append(row)\n",
        "      line_count=line_count+1\n",
        "\n",
        "  Data_dict={}\n",
        "\n",
        "  idx=0\n",
        "  for name in Header:\n",
        "    Data_dict[name]=[]\n",
        "    for row in Data:\n",
        "      if name in NonNumerical:\n",
        "        Data_dict[name].append(row[idx])\n",
        "      else:\n",
        "        if row[idx].replace('.','').isdigit():\n",
        "          Data_dict[name].append(float(row[idx]))\n",
        "        else:\n",
        "          Data_dict[name].append(None)\n",
        "    idx=idx+1\n",
        "  return Data_dict"
      ],
      "metadata": {
        "id": "TJk7KPv91nbt"
      },
      "execution_count": 16,
      "outputs": []
    },
    {
      "cell_type": "code",
      "source": [
        "Data_Parsed=CSV_Data_Reader('/content/PROJECT (1).csv', ',', ['Company','Industry', 'Country/countries'])"
      ],
      "metadata": {
        "id": "nIzwKvqk11r9"
      },
      "execution_count": 18,
      "outputs": []
    },
    {
      "cell_type": "code",
      "source": [
        "\n",
        "Data_Parsed.keys()"
      ],
      "metadata": {
        "colab": {
          "base_uri": "https://localhost:8080/"
        },
        "id": "V3PNXxui16IO",
        "outputId": "f39db736-2cdf-4921-ef72-f2ec8b2128df"
      },
      "execution_count": 19,
      "outputs": [
        {
          "output_type": "execute_result",
          "data": {
            "text/plain": [
              "dict_keys(['Company', 'Valuation(US$ billions)', 'Valuation date', 'Industry', 'Country/countries', 'Founder(s)'])"
            ]
          },
          "metadata": {},
          "execution_count": 19
        }
      ]
    },
    {
      "cell_type": "code",
      "source": [
        "Data_Parsed['Company']"
      ],
      "metadata": {
        "colab": {
          "base_uri": "https://localhost:8080/"
        },
        "id": "YeknnwWN2MT-",
        "outputId": "d51228ed-ad1a-4d33-dc65-edccdf96d39a"
      },
      "execution_count": 20,
      "outputs": [
        {
          "output_type": "execute_result",
          "data": {
            "text/plain": [
              "['ByteDance',\n",
              " 'SpaceX',\n",
              " 'Shein',\n",
              " 'Stripe',\n",
              " 'Canva',\n",
              " 'Checkout.com',\n",
              " 'Instacart',\n",
              " 'Databricks',\n",
              " 'Revolut',\n",
              " 'Epic Games',\n",
              " 'Telegram',\n",
              " 'Fanatics',\n",
              " 'Chime',\n",
              " \"Byju's\",\n",
              " 'J&T Express',\n",
              " 'Xiaohongshu',\n",
              " 'Miro',\n",
              " 'PayFit',\n",
              " 'Trendyol',\n",
              " 'Discord',\n",
              " 'DJI',\n",
              " 'GoPuff',\n",
              " 'Plaid',\n",
              " 'Brex',\n",
              " 'Biosplice Therapeutics',\n",
              " 'Getir',\n",
              " 'Airtable',\n",
              " 'Bolt Financial',\n",
              " 'Alchemy',\n",
              " 'Swiggy',\n",
              " 'Figma',\n",
              " 'Gusto',\n",
              " 'Reddit',\n",
              " 'Talkdesk',\n",
              " 'Oyo',\n",
              " 'Tanium',\n",
              " 'Bolt',\n",
              " 'Dream11',\n",
              " 'Flexport',\n",
              " 'StarkWare Industries',\n",
              " 'Netskope',\n",
              " 'Razorpay',\n",
              " 'Carta',\n",
              " 'Ola Cabs',\n",
              " 'TripActions',\n",
              " 'Yanolja',\n",
              " 'Klarna',\n",
              " 'Rippling',\n",
              " 'CRED',\n",
              " 'PharmEasy',\n",
              " 'PhonePe',\n",
              " 'Pony.ai',\n",
              " 'Collibra',\n",
              " 'Thrasio',\n",
              " 'OfBusiness',\n",
              " 'Ola Electric',\n",
              " 'GetBlock',\n",
              " 'Animoca Brands',\n",
              " 'Meesho',\n",
              " 'Anduril Industries',\n",
              " 'Vinted',\n",
              " 'BrowserStack',\n",
              " 'Clubhouse',\n",
              " 'Patreon',\n",
              " 'ShareChat',\n",
              " 'Digit Insurance',\n",
              " 'CARS24',\n",
              " 'Rubrik',\n",
              " 'Unacademy',\n",
              " 'Thumbtack',\n",
              " 'ApplyBoard',\n",
              " 'Udaan',\n",
              " 'Automattic',\n",
              " 'Calendly',\n",
              " 'Groww',\n",
              " 'Pine Labs',\n",
              " 'Upstox',\n",
              " 'BharatPe',\n",
              " 'Icertis',\n",
              " 'Infra.Market',\n",
              " 'DriveNets',\n",
              " 'Lenskart',\n",
              " 'BitSight',\n",
              " 'Wemakeprice',\n",
              " 'Zume',\n",
              " 'bKash',\n",
              " 'Hive',\n",
              " 'Mural',\n",
              " 'Calm',\n",
              " 'CoinSwitch Kuber',\n",
              " 'BillDesk',\n",
              " 'Spinny',\n",
              " 'Harness',\n",
              " 'Nord Security',\n",
              " 'SafetyCulture',\n",
              " 'Zeta',\n",
              " 'Epidemic Sound',\n",
              " 'FiscalNote',\n",
              " 'Panther Labs, Inc.',\n",
              " 'G2',\n",
              " 'Innovaccer',\n",
              " 'Mamaearth',\n",
              " 'Alation',\n",
              " 'Droom',\n",
              " 'CoinDCX',\n",
              " 'Purplle',\n",
              " 'Benevity',\n",
              " 'Instabase',\n",
              " 'Rivigo',\n",
              " 'Pentera',\n",
              " 'Gymshark',\n",
              " 'Cadence Solutions, Inc.',\n",
              " 'Flexe',\n",
              " 'Grover',\n",
              " 'Infobip',\n",
              " 'Injective',\n",
              " 'InMobi',\n",
              " 'Licious',\n",
              " 'Moglix',\n",
              " 'Opn (Synqa)',\n",
              " 'PandaDoc',\n",
              " 'Perimeter 81',\n",
              " 'Picsart',\n",
              " 'Snapdeal',\n",
              " 'Staffbase',\n",
              " 'VerSe Innovation',\n",
              " 'ReliaQuest',\n",
              " 'Scandit',\n",
              " 'BlueVoyant',\n",
              " 'Neo Financial',\n",
              " 'Physics Wallah',\n",
              " 'OneCard',\n",
              " '5ire']"
            ]
          },
          "metadata": {},
          "execution_count": 20
        }
      ]
    },
    {
      "cell_type": "code",
      "source": [
        "import matplotlib.pyplot as plt"
      ],
      "metadata": {
        "id": "n1pJVres2Ql9"
      },
      "execution_count": 21,
      "outputs": []
    },
    {
      "cell_type": "code",
      "source": [
        "plt.plot(Data_Parsed['Valuation(US$ billions)'])#,Data_Parsed['HumidityAvgPercent'])\n",
        "plt.grid()\n",
        "plt.xlim([0,140])\n",
        "plt.ylim([0,140])\n",
        "plt.title('Valuation (USD Billions')"
      ],
      "metadata": {
        "colab": {
          "base_uri": "https://localhost:8080/",
          "height": 470
        },
        "id": "U24cxJ1v4bRI",
        "outputId": "0f5d7bab-b04a-4b64-ac66-5815b3895235"
      },
      "execution_count": 22,
      "outputs": [
        {
          "output_type": "execute_result",
          "data": {
            "text/plain": [
              "Text(0.5, 1.0, 'Valuation (USD Billions')"
            ]
          },
          "metadata": {},
          "execution_count": 22
        },
        {
          "output_type": "display_data",
          "data": {
            "text/plain": [
              "<Figure size 640x480 with 1 Axes>"
            ],
            "image/png": "[encoded data removed]"
          },
          "metadata": {}
        }
      ]
    },
    {
      "cell_type": "code",
      "source": [
        "Data_Parsed['Valuation(US$ billions)']"
      ],
      "metadata": {
        "colab": {
          "base_uri": "https://localhost:8080/"
        },
        "id": "MtkWlIxASFS5",
        "outputId": "ba0d1dec-196c-41a6-87a4-88eaf33a9412"
      },
      "execution_count": 23,
      "outputs": [
        {
          "output_type": "execute_result",
          "data": {
            "text/plain": [
              "[140.0,\n",
              " 127.0,\n",
              " 100.0,\n",
              " 50.0,\n",
              " 40.0,\n",
              " 40.0,\n",
              " 24.0,\n",
              " 38.0,\n",
              " 33.0,\n",
              " 31.5,\n",
              " 30.0,\n",
              " 27.0,\n",
              " 25.0,\n",
              " 22.0,\n",
              " 20.0,\n",
              " 20.0,\n",
              " 17.5,\n",
              " 2.1,\n",
              " 16.5,\n",
              " 15.0,\n",
              " 15.0,\n",
              " 15.0,\n",
              " 13.4,\n",
              " 12.3,\n",
              " 12.0,\n",
              " 12.0,\n",
              " 11.0,\n",
              " 11.0,\n",
              " 10.2,\n",
              " 10.7,\n",
              " 10.0,\n",
              " 10.0,\n",
              " 10.0,\n",
              " 10.0,\n",
              " 9.6,\n",
              " 9.0,\n",
              " 8.4,\n",
              " 8.0,\n",
              " 8.0,\n",
              " 8.0,\n",
              " 7.5,\n",
              " 7.5,\n",
              " 7.4,\n",
              " 7.3,\n",
              " 7.25,\n",
              " 6.7,\n",
              " 6.5,\n",
              " 11.25,\n",
              " 6.4,\n",
              " 5.6,\n",
              " 5.5,\n",
              " 5.3,\n",
              " 5.0,\n",
              " 5.0,\n",
              " 5.0,\n",
              " 5.0,\n",
              " 4.6,\n",
              " 5.0,\n",
              " 4.9,\n",
              " 4.6,\n",
              " 4.5,\n",
              " 4.0,\n",
              " 4.0,\n",
              " 4.0,\n",
              " 3.7,\n",
              " 3.5,\n",
              " 3.3,\n",
              " 3.3,\n",
              " 3.4,\n",
              " 3.2,\n",
              " 3.2,\n",
              " 3.1,\n",
              " 3.0,\n",
              " 3.0,\n",
              " 3.0,\n",
              " 5.0,\n",
              " 3.0,\n",
              " 2.8,\n",
              " 2.8,\n",
              " 2.5,\n",
              " 2.5,\n",
              " 2.5,\n",
              " 2.4,\n",
              " 2.33,\n",
              " 2.25,\n",
              " 2.0,\n",
              " 2.0,\n",
              " 2.0,\n",
              " 2.0,\n",
              " 1.9,\n",
              " 1.8,\n",
              " 1.75,\n",
              " 1.7,\n",
              " 1.6,\n",
              " 1.6,\n",
              " 1.45,\n",
              " 1.4,\n",
              " 1.4,\n",
              " 1.4,\n",
              " 1.3,\n",
              " 1.3,\n",
              " 1.2,\n",
              " 1.2,\n",
              " 1.2,\n",
              " 1.1,\n",
              " 1.1,\n",
              " 1.1,\n",
              " 1.05,\n",
              " 1.05,\n",
              " 1.0,\n",
              " 1.0,\n",
              " 1.0,\n",
              " 1.0,\n",
              " 1.0,\n",
              " 1.0,\n",
              " 1.0,\n",
              " 1.0,\n",
              " 1.0,\n",
              " 1.0,\n",
              " 1.0,\n",
              " 1.0,\n",
              " 1.0,\n",
              " 1.0,\n",
              " 1.0,\n",
              " 1.1,\n",
              " 1.0,\n",
              " 1.0,\n",
              " 1.0,\n",
              " 1.0,\n",
              " 1.0,\n",
              " 1.1,\n",
              " 1.4,\n",
              " 1.5]"
            ]
          },
          "metadata": {},
          "execution_count": 23
        }
      ]
    },
    {
      "cell_type": "code",
      "source": [
        "#import matplotlib.pyplot as plt"
      ],
      "metadata": {
        "id": "eZyfz3sC4bJh"
      },
      "execution_count": 24,
      "outputs": []
    },
    {
      "cell_type": "code",
      "source": [
        "#Data_Parsed"
      ],
      "metadata": {
        "id": "vKfiCljyRoj6"
      },
      "execution_count": 25,
      "outputs": []
    },
    {
      "cell_type": "code",
      "source": [
        "# plt.plot(Data_Parsed['Valuation date)'])#,Data_Parsed['HumidityAvgPercent'])\n",
        "# plt.grid()\n",
        "# plt.xlim([0,140])\n",
        "# plt.ylim([0,140])\n",
        "# plt.title('Valuation date')"
      ],
      "metadata": {
        "id": "y3c1iK3sKqNC"
      },
      "execution_count": 26,
      "outputs": []
    },
    {
      "cell_type": "code",
      "source": [
        "Data_Parsed['Industry']"
      ],
      "metadata": {
        "colab": {
          "base_uri": "https://localhost:8080/"
        },
        "id": "U6tTv8s1VKLU",
        "outputId": "d736a9ff-b54d-4c31-c76e-b8a6eb0b228d"
      },
      "execution_count": 27,
      "outputs": [
        {
          "output_type": "execute_result",
          "data": {
            "text/plain": [
              "['Internet',\n",
              " 'Aerospace',\n",
              " 'E-commerce',\n",
              " 'Financial services',\n",
              " 'Graphic design',\n",
              " 'Financial technology',\n",
              " 'Retail',\n",
              " 'Software',\n",
              " 'Financial technology',\n",
              " 'Video games',\n",
              " 'Internet',\n",
              " 'E-commerce',\n",
              " 'Financial services',\n",
              " 'Educational technology',\n",
              " 'Logistics',\n",
              " 'E-commerce',\n",
              " 'Software',\n",
              " 'Software',\n",
              " 'E-commerce',\n",
              " 'Software',\n",
              " 'Technology',\n",
              " 'E-commerce',\n",
              " 'Financial technology',\n",
              " 'Finance',\n",
              " 'Health',\n",
              " 'Retail',\n",
              " 'Collaborative software',\n",
              " 'Financial technology',\n",
              " 'Blockchain',\n",
              " 'Food delivery',\n",
              " 'Software',\n",
              " 'Software',\n",
              " 'Internet media',\n",
              " 'Software as a service',\n",
              " 'Hospitality',\n",
              " 'Cybersecurity',\n",
              " 'Transportation',\n",
              " 'Fantasy sports',\n",
              " 'Logistics',\n",
              " 'Blockchain',\n",
              " 'Computer security',\n",
              " 'Financial technology',\n",
              " 'Software',\n",
              " 'Transportation',\n",
              " 'Travel',\n",
              " 'Hospitality',\n",
              " 'Financial technology',\n",
              " 'Workforce management',\n",
              " 'Financial technology',\n",
              " 'Health technology',\n",
              " 'Financial technology',\n",
              " 'Artificial intelligence',\n",
              " 'Data governance',\n",
              " 'Holding company',\n",
              " 'B2B e-commerce',\n",
              " 'Electric vehicles',\n",
              " 'Blockchain',\n",
              " 'Blockchain gaming',\n",
              " 'E-commerce',\n",
              " 'Defense technology',\n",
              " 'Marketplace',\n",
              " 'Software',\n",
              " 'Messaging',\n",
              " 'Online membership service',\n",
              " 'Social network',\n",
              " 'Insurance',\n",
              " 'Marketplace',\n",
              " 'Computer storage',\n",
              " 'Educational technology',\n",
              " 'Software',\n",
              " 'Educational technology',\n",
              " 'B2B e-commerce',\n",
              " 'Internet',\n",
              " 'Software',\n",
              " 'Financial technology',\n",
              " 'Financial technology',\n",
              " 'Financial technology',\n",
              " 'Financial technology',\n",
              " 'Software',\n",
              " 'Marketplace',\n",
              " 'Network operating system, Software-defined networking, Software as a service',\n",
              " 'Retail',\n",
              " 'Cybersecurity',\n",
              " 'E-commerce',\n",
              " 'Food packaging, Logistics',\n",
              " 'Mobile financial services',\n",
              " 'Artificial intelligence',\n",
              " 'Technology',\n",
              " 'Digital health',\n",
              " 'Cryptocurrency',\n",
              " 'Financial technology',\n",
              " 'Marketplace',\n",
              " 'Software',\n",
              " 'VPN service',\n",
              " 'Technology',\n",
              " 'Financial technology',\n",
              " 'Music',\n",
              " 'Data analytics',\n",
              " 'Computer security',\n",
              " 'Technology',\n",
              " 'Health care',\n",
              " 'Personal care',\n",
              " 'Software',\n",
              " 'Marketplace',\n",
              " 'Cryptocurrency',\n",
              " 'E-Commerce',\n",
              " 'Software as a service',\n",
              " 'Software',\n",
              " 'Logistics',\n",
              " 'Cybersecurity',\n",
              " 'Sportswear',\n",
              " 'Healthcare',\n",
              " 'Logistics',\n",
              " 'E-commerce',\n",
              " 'Cloud communications',\n",
              " 'Financial technology',\n",
              " 'Internet',\n",
              " 'Retail',\n",
              " 'E-commerce',\n",
              " 'Financial technology',\n",
              " 'Software as a service',\n",
              " 'Network security',\n",
              " 'Graphic design',\n",
              " 'E-commerce',\n",
              " 'Software as a service',\n",
              " 'Technology',\n",
              " 'Cybersecurity',\n",
              " 'Software',\n",
              " 'Cybersecurity',\n",
              " 'Financial technology',\n",
              " 'Educational technology',\n",
              " 'Financial technology',\n",
              " 'Technology']"
            ]
          },
          "metadata": {},
          "execution_count": 27
        }
      ]
    },
    {
      "cell_type": "code",
      "source": [
        "ax,fig = plt.subplots(figsize=(10,15))\n",
        "ax= plt.scatter(Data_Parsed['Valuation(US$ billions)'], Data_Parsed['Industry'])\n",
        "plt.grid()\n",
        "plt.xlim([0,140])\n",
        "\n",
        "plt.title('Valuation (Industry and Valuation')"
      ],
      "metadata": {
        "colab": {
          "base_uri": "https://localhost:8080/",
          "height": 942
        },
        "id": "-NBWkYmbURJn",
        "outputId": "311b7bbc-1488-4fc8-fe12-a641f94aaee1"
      },
      "execution_count": 28,
      "outputs": [
        {
          "output_type": "execute_result",
          "data": {
            "text/plain": [
              "Text(0.5, 1.0, 'Valuation (Industry and Valuation')"
            ]
          },
          "metadata": {},
          "execution_count": 28
        },
        {
          "output_type": "display_data",
          "data": {
            "text/plain": [
              "<Figure size 1000x1500 with 1 Axes>"
            ],
            "image/png": "[encoded data removed]"
          },
          "metadata": {}
        }
      ]
    },
    {
      "cell_type": "code",
      "source": [],
      "metadata": {
        "id": "RAjoX0jYc_rS"
      },
      "execution_count": 28,
      "outputs": []
    },
    {
      "cell_type": "code",
      "source": [
        "df_RAW=Data_Parsed['Industry']\n"
      ],
      "metadata": {
        "id": "DPTp-nP7cnfG"
      },
      "execution_count": 29,
      "outputs": []
    },
    {
      "cell_type": "code",
      "source": [
        "df_RAW"
      ],
      "metadata": {
        "colab": {
          "base_uri": "https://localhost:8080/"
        },
        "id": "C5Jf5bdid_3a",
        "outputId": "cb3d0794-09ac-4c3b-ea49-80281de0a406"
      },
      "execution_count": 30,
      "outputs": [
        {
          "output_type": "execute_result",
          "data": {
            "text/plain": [
              "['Internet',\n",
              " 'Aerospace',\n",
              " 'E-commerce',\n",
              " 'Financial services',\n",
              " 'Graphic design',\n",
              " 'Financial technology',\n",
              " 'Retail',\n",
              " 'Software',\n",
              " 'Financial technology',\n",
              " 'Video games',\n",
              " 'Internet',\n",
              " 'E-commerce',\n",
              " 'Financial services',\n",
              " 'Educational technology',\n",
              " 'Logistics',\n",
              " 'E-commerce',\n",
              " 'Software',\n",
              " 'Software',\n",
              " 'E-commerce',\n",
              " 'Software',\n",
              " 'Technology',\n",
              " 'E-commerce',\n",
              " 'Financial technology',\n",
              " 'Finance',\n",
              " 'Health',\n",
              " 'Retail',\n",
              " 'Collaborative software',\n",
              " 'Financial technology',\n",
              " 'Blockchain',\n",
              " 'Food delivery',\n",
              " 'Software',\n",
              " 'Software',\n",
              " 'Internet media',\n",
              " 'Software as a service',\n",
              " 'Hospitality',\n",
              " 'Cybersecurity',\n",
              " 'Transportation',\n",
              " 'Fantasy sports',\n",
              " 'Logistics',\n",
              " 'Blockchain',\n",
              " 'Computer security',\n",
              " 'Financial technology',\n",
              " 'Software',\n",
              " 'Transportation',\n",
              " 'Travel',\n",
              " 'Hospitality',\n",
              " 'Financial technology',\n",
              " 'Workforce management',\n",
              " 'Financial technology',\n",
              " 'Health technology',\n",
              " 'Financial technology',\n",
              " 'Artificial intelligence',\n",
              " 'Data governance',\n",
              " 'Holding company',\n",
              " 'B2B e-commerce',\n",
              " 'Electric vehicles',\n",
              " 'Blockchain',\n",
              " 'Blockchain gaming',\n",
              " 'E-commerce',\n",
              " 'Defense technology',\n",
              " 'Marketplace',\n",
              " 'Software',\n",
              " 'Messaging',\n",
              " 'Online membership service',\n",
              " 'Social network',\n",
              " 'Insurance',\n",
              " 'Marketplace',\n",
              " 'Computer storage',\n",
              " 'Educational technology',\n",
              " 'Software',\n",
              " 'Educational technology',\n",
              " 'B2B e-commerce',\n",
              " 'Internet',\n",
              " 'Software',\n",
              " 'Financial technology',\n",
              " 'Financial technology',\n",
              " 'Financial technology',\n",
              " 'Financial technology',\n",
              " 'Software',\n",
              " 'Marketplace',\n",
              " 'Network operating system, Software-defined networking, Software as a service',\n",
              " 'Retail',\n",
              " 'Cybersecurity',\n",
              " 'E-commerce',\n",
              " 'Food packaging, Logistics',\n",
              " 'Mobile financial services',\n",
              " 'Artificial intelligence',\n",
              " 'Technology',\n",
              " 'Digital health',\n",
              " 'Cryptocurrency',\n",
              " 'Financial technology',\n",
              " 'Marketplace',\n",
              " 'Software',\n",
              " 'VPN service',\n",
              " 'Technology',\n",
              " 'Financial technology',\n",
              " 'Music',\n",
              " 'Data analytics',\n",
              " 'Computer security',\n",
              " 'Technology',\n",
              " 'Health care',\n",
              " 'Personal care',\n",
              " 'Software',\n",
              " 'Marketplace',\n",
              " 'Cryptocurrency',\n",
              " 'E-Commerce',\n",
              " 'Software as a service',\n",
              " 'Software',\n",
              " 'Logistics',\n",
              " 'Cybersecurity',\n",
              " 'Sportswear',\n",
              " 'Healthcare',\n",
              " 'Logistics',\n",
              " 'E-commerce',\n",
              " 'Cloud communications',\n",
              " 'Financial technology',\n",
              " 'Internet',\n",
              " 'Retail',\n",
              " 'E-commerce',\n",
              " 'Financial technology',\n",
              " 'Software as a service',\n",
              " 'Network security',\n",
              " 'Graphic design',\n",
              " 'E-commerce',\n",
              " 'Software as a service',\n",
              " 'Technology',\n",
              " 'Cybersecurity',\n",
              " 'Software',\n",
              " 'Cybersecurity',\n",
              " 'Financial technology',\n",
              " 'Educational technology',\n",
              " 'Financial technology',\n",
              " 'Technology']"
            ]
          },
          "metadata": {},
          "execution_count": 30
        }
      ]
    },
    {
      "cell_type": "code",
      "source": [
        "S1=[]\n",
        "for i in Data_Parsed['Valuation(US$ billions)']:\n",
        "  if i!=None:\n",
        "    S1.append(i)\n",
        "print(S1)"
      ],
      "metadata": {
        "colab": {
          "base_uri": "https://localhost:8080/"
        },
        "id": "PI1VbsVueMFO",
        "outputId": "28398304-db6d-44a4-d549-caf5038c6fc9"
      },
      "execution_count": 31,
      "outputs": [
        {
          "output_type": "stream",
          "name": "stdout",
          "text": [
            "[140.0, 127.0, 100.0, 50.0, 40.0, 40.0, 24.0, 38.0, 33.0, 31.5, 30.0, 27.0, 25.0, 22.0, 20.0, 20.0, 17.5, 2.1, 16.5, 15.0, 15.0, 15.0, 13.4, 12.3, 12.0, 12.0, 11.0, 11.0, 10.2, 10.7, 10.0, 10.0, 10.0, 10.0, 9.6, 9.0, 8.4, 8.0, 8.0, 8.0, 7.5, 7.5, 7.4, 7.3, 7.25, 6.7, 6.5, 11.25, 6.4, 5.6, 5.5, 5.3, 5.0, 5.0, 5.0, 5.0, 4.6, 5.0, 4.9, 4.6, 4.5, 4.0, 4.0, 4.0, 3.7, 3.5, 3.3, 3.3, 3.4, 3.2, 3.2, 3.1, 3.0, 3.0, 3.0, 5.0, 3.0, 2.8, 2.8, 2.5, 2.5, 2.5, 2.4, 2.33, 2.25, 2.0, 2.0, 2.0, 2.0, 1.9, 1.8, 1.75, 1.7, 1.6, 1.6, 1.45, 1.4, 1.4, 1.4, 1.3, 1.3, 1.2, 1.2, 1.2, 1.1, 1.1, 1.1, 1.05, 1.05, 1.0, 1.0, 1.0, 1.0, 1.0, 1.0, 1.0, 1.0, 1.0, 1.0, 1.0, 1.0, 1.0, 1.0, 1.0, 1.1, 1.0, 1.0, 1.0, 1.0, 1.0, 1.1, 1.4, 1.5]\n"
          ]
        }
      ]
    },
    {
      "cell_type": "code",
      "source": [
        "plt.hist(S1)"
      ],
      "metadata": {
        "colab": {
          "base_uri": "https://localhost:8080/",
          "height": 501
        },
        "id": "4MdP0_jagBHy",
        "outputId": "33b69231-cae4-4289-9079-0dcdbcf07ed6"
      },
      "execution_count": 32,
      "outputs": [
        {
          "output_type": "execute_result",
          "data": {
            "text/plain": [
              "(array([112.,  11.,   6.,   1.,   0.,   0.,   0.,   1.,   0.,   2.]),\n",
              " array([  1. ,  14.9,  28.8,  42.7,  56.6,  70.5,  84.4,  98.3, 112.2,\n",
              "        126.1, 140. ]),\n",
              " <BarContainer object of 10 artists>)"
            ]
          },
          "metadata": {},
          "execution_count": 32
        },
        {
          "output_type": "display_data",
          "data": {
            "text/plain": [
              "<Figure size 640x480 with 1 Axes>"
            ],
            "image/png": "[encoded data removed]"
          },
          "metadata": {}
        }
      ]
    },
    {
      "cell_type": "code",
      "source": [
        "#Stats={'Month':Month, 'S1_AVG':[], 'Temp1_Max':[], 'Count':[]}"
      ],
      "metadata": {
        "id": "it94JPr4hhI3"
      },
      "execution_count": 33,
      "outputs": []
    },
    {
      "cell_type": "code",
      "source": [
        "Month=list(range(1,13))\n",
        "\n",
        "print(Month) "
      ],
      "metadata": {
        "colab": {
          "base_uri": "https://localhost:8080/"
        },
        "id": "HSmsGGNXjE5F",
        "outputId": "84a2e109-7fce-4122-c339-ef219fd0cd2d"
      },
      "execution_count": 34,
      "outputs": [
        {
          "output_type": "stream",
          "name": "stdout",
          "text": [
            "[1, 2, 3, 4, 5, 6, 7, 8, 9, 10, 11, 12]\n"
          ]
        }
      ]
    },
    {
      "cell_type": "code",
      "source": [
        "# for index in range(len(DataCutCleanCut['Valuation date'])):\n",
        "#   #print(index)\n",
        "#   for m in Valuation date:\n",
        "#    #print(m)\n",
        "#    if DataCutCleanCut['Valuation date'][index].month==m:\n",
        "#      #print(m)\n",
        "#      DataGrouped['S1'][m-1].append(DataCutCleanCut['S1'][index])\n",
        "#      DataGrouped['Valuation date'][m-1].append(DataCutCleanCut['Temp1'][index])\n",
        "#      break"
      ],
      "metadata": {
        "id": "iGSVoqkYih6i"
      },
      "execution_count": 35,
      "outputs": []
    },
    {
      "cell_type": "code",
      "source": [
        "# print(Header)\n",
        "# print(len(Header))"
      ],
      "metadata": {
        "id": "5O8zVQ19ir-d"
      },
      "execution_count": 36,
      "outputs": []
    },
    {
      "cell_type": "code",
      "source": [
        "#  import numpy as np\n",
        "# import pandas as pd"
      ],
      "metadata": {
        "id": "It-jkiJx_ZVn"
      },
      "execution_count": 37,
      "outputs": []
    },
    {
      "cell_type": "code",
      "source": [
        "# df_raw=('/content/Unicorn.csv')"
      ],
      "metadata": {
        "id": "K0zVp8aG_PMT"
      },
      "execution_count": 38,
      "outputs": []
    },
    {
      "cell_type": "code",
      "source": [
        "# # LOAD THE DATA INTO A PANDAS DATA FRAME CALLED: df_raw\n",
        "# df_raw = pd.read_csv('/content/Unicorn.csv')\n",
        "# print = df_raw"
      ],
      "metadata": {
        "id": "D74CLV6n-Wp2"
      },
      "execution_count": 39,
      "outputs": []
    },
    {
      "cell_type": "code",
      "source": [
        "from collections import Counter\n",
        "c = Counter(df_RAW)\n",
        "print(c.keys())\n",
        "print(c.values())"
      ],
      "metadata": {
        "colab": {
          "base_uri": "https://localhost:8080/"
        },
        "id": "HckvwO6Y7Tb_",
        "outputId": "28b0072d-0210-4167-e06e-1e04d76b5cda"
      },
      "execution_count": 40,
      "outputs": [
        {
          "output_type": "stream",
          "name": "stdout",
          "text": [
            "dict_keys(['Internet', 'Aerospace', 'E-commerce', 'Financial services', 'Graphic design', 'Financial technology', 'Retail', 'Software', 'Video games', 'Educational technology', 'Logistics', 'Technology', 'Finance', 'Health', 'Collaborative software', 'Blockchain', 'Food delivery', 'Internet media', 'Software as a service', 'Hospitality', 'Cybersecurity', 'Transportation', 'Fantasy sports', 'Computer security', 'Travel', 'Workforce management', 'Health technology', 'Artificial intelligence', 'Data governance', 'Holding company', 'B2B e-commerce', 'Electric vehicles', 'Blockchain gaming', 'Defense technology', 'Marketplace', 'Messaging', 'Online membership service', 'Social network', 'Insurance', 'Computer storage', 'Network operating system, Software-defined networking, Software as a service', 'Food packaging, Logistics', 'Mobile financial services', 'Digital health', 'Cryptocurrency', 'VPN service', 'Music', 'Data analytics', 'Health care', 'Personal care', 'E-Commerce', 'Sportswear', 'Healthcare', 'Cloud communications', 'Network security'])\n",
            "dict_values([4, 1, 10, 2, 2, 18, 4, 15, 1, 4, 4, 6, 1, 1, 1, 3, 1, 1, 4, 2, 5, 2, 1, 2, 1, 1, 1, 2, 1, 1, 2, 1, 1, 1, 5, 1, 1, 1, 1, 1, 1, 1, 1, 1, 2, 1, 1, 1, 1, 1, 1, 1, 1, 1, 1])\n"
          ]
        }
      ]
    },
    {
      "cell_type": "code",
      "source": [
        "Data_Parsed['Industry']\n"
      ],
      "metadata": {
        "colab": {
          "base_uri": "https://localhost:8080/"
        },
        "id": "2jcG0D7Y8GxI",
        "outputId": "8cdb576b-85a2-4149-cfec-2f1366d25fdb"
      },
      "execution_count": 41,
      "outputs": [
        {
          "output_type": "execute_result",
          "data": {
            "text/plain": [
              "['Internet',\n",
              " 'Aerospace',\n",
              " 'E-commerce',\n",
              " 'Financial services',\n",
              " 'Graphic design',\n",
              " 'Financial technology',\n",
              " 'Retail',\n",
              " 'Software',\n",
              " 'Financial technology',\n",
              " 'Video games',\n",
              " 'Internet',\n",
              " 'E-commerce',\n",
              " 'Financial services',\n",
              " 'Educational technology',\n",
              " 'Logistics',\n",
              " 'E-commerce',\n",
              " 'Software',\n",
              " 'Software',\n",
              " 'E-commerce',\n",
              " 'Software',\n",
              " 'Technology',\n",
              " 'E-commerce',\n",
              " 'Financial technology',\n",
              " 'Finance',\n",
              " 'Health',\n",
              " 'Retail',\n",
              " 'Collaborative software',\n",
              " 'Financial technology',\n",
              " 'Blockchain',\n",
              " 'Food delivery',\n",
              " 'Software',\n",
              " 'Software',\n",
              " 'Internet media',\n",
              " 'Software as a service',\n",
              " 'Hospitality',\n",
              " 'Cybersecurity',\n",
              " 'Transportation',\n",
              " 'Fantasy sports',\n",
              " 'Logistics',\n",
              " 'Blockchain',\n",
              " 'Computer security',\n",
              " 'Financial technology',\n",
              " 'Software',\n",
              " 'Transportation',\n",
              " 'Travel',\n",
              " 'Hospitality',\n",
              " 'Financial technology',\n",
              " 'Workforce management',\n",
              " 'Financial technology',\n",
              " 'Health technology',\n",
              " 'Financial technology',\n",
              " 'Artificial intelligence',\n",
              " 'Data governance',\n",
              " 'Holding company',\n",
              " 'B2B e-commerce',\n",
              " 'Electric vehicles',\n",
              " 'Blockchain',\n",
              " 'Blockchain gaming',\n",
              " 'E-commerce',\n",
              " 'Defense technology',\n",
              " 'Marketplace',\n",
              " 'Software',\n",
              " 'Messaging',\n",
              " 'Online membership service',\n",
              " 'Social network',\n",
              " 'Insurance',\n",
              " 'Marketplace',\n",
              " 'Computer storage',\n",
              " 'Educational technology',\n",
              " 'Software',\n",
              " 'Educational technology',\n",
              " 'B2B e-commerce',\n",
              " 'Internet',\n",
              " 'Software',\n",
              " 'Financial technology',\n",
              " 'Financial technology',\n",
              " 'Financial technology',\n",
              " 'Financial technology',\n",
              " 'Software',\n",
              " 'Marketplace',\n",
              " 'Network operating system, Software-defined networking, Software as a service',\n",
              " 'Retail',\n",
              " 'Cybersecurity',\n",
              " 'E-commerce',\n",
              " 'Food packaging, Logistics',\n",
              " 'Mobile financial services',\n",
              " 'Artificial intelligence',\n",
              " 'Technology',\n",
              " 'Digital health',\n",
              " 'Cryptocurrency',\n",
              " 'Financial technology',\n",
              " 'Marketplace',\n",
              " 'Software',\n",
              " 'VPN service',\n",
              " 'Technology',\n",
              " 'Financial technology',\n",
              " 'Music',\n",
              " 'Data analytics',\n",
              " 'Computer security',\n",
              " 'Technology',\n",
              " 'Health care',\n",
              " 'Personal care',\n",
              " 'Software',\n",
              " 'Marketplace',\n",
              " 'Cryptocurrency',\n",
              " 'E-Commerce',\n",
              " 'Software as a service',\n",
              " 'Software',\n",
              " 'Logistics',\n",
              " 'Cybersecurity',\n",
              " 'Sportswear',\n",
              " 'Healthcare',\n",
              " 'Logistics',\n",
              " 'E-commerce',\n",
              " 'Cloud communications',\n",
              " 'Financial technology',\n",
              " 'Internet',\n",
              " 'Retail',\n",
              " 'E-commerce',\n",
              " 'Financial technology',\n",
              " 'Software as a service',\n",
              " 'Network security',\n",
              " 'Graphic design',\n",
              " 'E-commerce',\n",
              " 'Software as a service',\n",
              " 'Technology',\n",
              " 'Cybersecurity',\n",
              " 'Software',\n",
              " 'Cybersecurity',\n",
              " 'Financial technology',\n",
              " 'Educational technology',\n",
              " 'Financial technology',\n",
              " 'Technology']"
            ]
          },
          "metadata": {},
          "execution_count": 41
        }
      ]
    },
    {
      "cell_type": "code",
      "source": [
        "# frequency of industry\n",
        "from collections import Counter\n",
        "c = Counter(Data_Parsed['Industry'])\n",
        "print(c.keys())\n",
        "print(c.values())\n",
        "\n",
        "import matplotlib.pyplot as plt\n",
        "from collections import Counter\n",
        "\n",
        "c = Counter(Data_Parsed['Industry'])\n",
        "keys = c.keys()\n",
        "values = c.values()\n",
        "\n",
        "plt.bar(keys, values)\n",
        "plt.xlabel('Industry')\n",
        "plt.ylabel('Count')\n",
        "plt.title('Industry distribution')\n",
        "for i, v in enumerate(values):\n",
        "    plt.text(i, v, str(v), color='black', fontweight='bold', ha='center')\n",
        "\n",
        "plt.show()"
      ],
      "metadata": {
        "colab": {
          "base_uri": "https://localhost:8080/",
          "height": 528
        },
        "id": "e47GK73p8KAp",
        "outputId": "18eb96d6-6b27-42ef-8e0e-d221436e9e6d"
      },
      "execution_count": 42,
      "outputs": [
        {
          "output_type": "stream",
          "name": "stdout",
          "text": [
            "dict_keys(['Internet', 'Aerospace', 'E-commerce', 'Financial services', 'Graphic design', 'Financial technology', 'Retail', 'Software', 'Video games', 'Educational technology', 'Logistics', 'Technology', 'Finance', 'Health', 'Collaborative software', 'Blockchain', 'Food delivery', 'Internet media', 'Software as a service', 'Hospitality', 'Cybersecurity', 'Transportation', 'Fantasy sports', 'Computer security', 'Travel', 'Workforce management', 'Health technology', 'Artificial intelligence', 'Data governance', 'Holding company', 'B2B e-commerce', 'Electric vehicles', 'Blockchain gaming', 'Defense technology', 'Marketplace', 'Messaging', 'Online membership service', 'Social network', 'Insurance', 'Computer storage', 'Network operating system, Software-defined networking, Software as a service', 'Food packaging, Logistics', 'Mobile financial services', 'Digital health', 'Cryptocurrency', 'VPN service', 'Music', 'Data analytics', 'Health care', 'Personal care', 'E-Commerce', 'Sportswear', 'Healthcare', 'Cloud communications', 'Network security'])\n",
            "dict_values([4, 1, 10, 2, 2, 18, 4, 15, 1, 4, 4, 6, 1, 1, 1, 3, 1, 1, 4, 2, 5, 2, 1, 2, 1, 1, 1, 2, 1, 1, 2, 1, 1, 1, 5, 1, 1, 1, 1, 1, 1, 1, 1, 1, 2, 1, 1, 1, 1, 1, 1, 1, 1, 1, 1])\n"
          ]
        },
        {
          "output_type": "display_data",
          "data": {
            "text/plain": [
              "<Figure size 640x480 with 1 Axes>"
            ],
            "image/png": "[encoded data removed]"
          },
          "metadata": {}
        }
      ]
    },
    {
      "cell_type": "markdown",
      "source": [
        "# Raw Analytics"
      ],
      "metadata": {
        "id": "B46ls46gOz1x"
      }
    },
    {
      "cell_type": "code",
      "source": [
        "# number of records\n",
        "print('# of record: ', len(Data_Parsed['Industry']))\n",
        "\n"
      ],
      "metadata": {
        "colab": {
          "base_uri": "https://localhost:8080/"
        },
        "id": "Mc5B2xbw86jU",
        "outputId": "80a548ac-115d-4824-9e6a-a822f493163d"
      },
      "execution_count": 43,
      "outputs": [
        {
          "output_type": "stream",
          "name": "stdout",
          "text": [
            "# of record:  133\n"
          ]
        }
      ]
    },
    {
      "cell_type": "code",
      "source": [
        "# average Valuation\n",
        "sum = 0\n",
        "for i in Data_Parsed['Valuation(US$ billions)']:\n",
        "  sum = sum + i\n",
        "avg = sum/len(Data_Parsed['Valuation(US$ billions)'])\n",
        "print('Average Valuation is ', avg, 'Billion dollars')"
      ],
      "metadata": {
        "colab": {
          "base_uri": "https://localhost:8080/"
        },
        "id": "ouAXuEI39Llw",
        "outputId": "0c9f923a-2829-42ca-eb24-295d51c13a79"
      },
      "execution_count": 44,
      "outputs": [
        {
          "output_type": "stream",
          "name": "stdout",
          "text": [
            "Average Valuation is  9.747969924812029 Billion dollars\n"
          ]
        }
      ]
    },
    {
      "cell_type": "code",
      "source": [
        "# no. of industries in US\n",
        "count = 0\n",
        "for i in Data_Parsed['Country/countries']:\n",
        "  if i == 'US':\n",
        "    count = count + 1\n",
        "print('There are ', count, 'industries in the US')"
      ],
      "metadata": {
        "colab": {
          "base_uri": "https://localhost:8080/"
        },
        "id": "BIMrVtXR-rfZ",
        "outputId": "db3e833d-0264-49ac-99c0-55ceb71c6b07"
      },
      "execution_count": 45,
      "outputs": [
        {
          "output_type": "stream",
          "name": "stdout",
          "text": [
            "There are  48 industries in the US\n"
          ]
        }
      ]
    },
    {
      "cell_type": "markdown",
      "source": [
        "# Analytics using numpy"
      ],
      "metadata": {
        "id": "QyY9ZFll-eGE"
      }
    },
    {
      "cell_type": "code",
      "source": [
        "import numpy as np"
      ],
      "metadata": {
        "id": "oKbtEdJcOvMu"
      },
      "execution_count": 47,
      "outputs": []
    },
    {
      "cell_type": "code",
      "source": [
        "print('Average Valuation is ', np.average(Data_Parsed['Valuation(US$ billions)']), 'Billion dollars')"
      ],
      "metadata": {
        "colab": {
          "base_uri": "https://localhost:8080/"
        },
        "id": "YbHI1VJXPHs0",
        "outputId": "249ff24d-efc8-41bf-dd1e-42916c60b8e8"
      },
      "execution_count": 50,
      "outputs": [
        {
          "output_type": "stream",
          "name": "stdout",
          "text": [
            "Average Valuation is  9.74796992481203 Billion dollars\n"
          ]
        }
      ]
    },
    {
      "cell_type": "code",
      "source": [
        "print('# of record: ', np.count_nonzero(Data_Parsed['Industry']))"
      ],
      "metadata": {
        "colab": {
          "base_uri": "https://localhost:8080/"
        },
        "id": "m8lv8pVbPTOX",
        "outputId": "fc6a6112-e3c3-4bad-c08f-0fcde94067bc"
      },
      "execution_count": 51,
      "outputs": [
        {
          "output_type": "stream",
          "name": "stdout",
          "text": [
            "# of record:  133\n"
          ]
        }
      ]
    },
    {
      "cell_type": "markdown",
      "source": [
        "# Analytics using pandas"
      ],
      "metadata": {
        "id": "ecKBOKX1QViC"
      }
    },
    {
      "cell_type": "code",
      "source": [
        "import pandas as pd\n"
      ],
      "metadata": {
        "id": "ax62VCxcP7-O"
      },
      "execution_count": 58,
      "outputs": []
    },
    {
      "cell_type": "code",
      "source": [
        "df = pd.read_csv('PROJECT (1).csv')"
      ],
      "metadata": {
        "id": "QNI9ch_ZQZYS"
      },
      "execution_count": 71,
      "outputs": []
    },
    {
      "cell_type": "code",
      "source": [
        "df.head()"
      ],
      "metadata": {
        "colab": {
          "base_uri": "https://localhost:8080/",
          "height": 302
        },
        "id": "u5N-aRCEQd-I",
        "outputId": "45acee30-1301-4f03-9ece-872f754e8adb"
      },
      "execution_count": 72,
      "outputs": [
        {
          "output_type": "execute_result",
          "data": {
            "text/plain": [
              "     Company  Valuation(US$ billions)      Valuation date            Industry  \\\n",
              "0  ByteDance                    140.0       June 2022[13]            Internet   \n",
              "1     SpaceX                    127.0       June 2022[13]           Aerospace   \n",
              "2      Shein                    100.0       June 2022[13]          E-commerce   \n",
              "3     Stripe                     50.0      March 2023[13]  Financial services   \n",
              "4      Canva                     40.0  September 2021[16]      Graphic design   \n",
              "\n",
              "  Country/countries                                        Founder(s)  \n",
              "0             China                          Zhang Yiming, Liang Rubo  \n",
              "1                US                                         Elon Musk  \n",
              "2             China                                          Chris Xu  \n",
              "3      US / Ireland                         Patrick and John Collison  \n",
              "4         Australia  Melanie Perkins, Clifford Obrecht, Cameron Adams  "
            ],
            "text/html": [
              "\n",
              "  <div id=\"df-df73b150-6eea-4424-bee3-5f8c1a32b083\">\n",
              "    <div class=\"colab-df-container\">\n",
              "      <div>\n",
              "<style scoped>\n",
              "    .dataframe tbody tr th:only-of-type {\n",
              "        vertical-align: middle;\n",
              "    }\n",
              "\n",
              "    .dataframe tbody tr th {\n",
              "        vertical-align: top;\n",
              "    }\n",
              "\n",
              "    .dataframe thead th {\n",
              "        text-align: right;\n",
              "    }\n",
              "</style>\n",
              "<table border=\"1\" class=\"dataframe\">\n",
              "  <thead>\n",
              "    <tr style=\"text-align: right;\">\n",
              "      <th></th>\n",
              "      <th>Company</th>\n",
              "      <th>Valuation(US$ billions)</th>\n",
              "      <th>Valuation date</th>\n",
              "      <th>Industry</th>\n",
              "      <th>Country/countries</th>\n",
              "      <th>Founder(s)</th>\n",
              "    </tr>\n",
              "  </thead>\n",
              "  <tbody>\n",
              "    <tr>\n",
              "      <th>0</th>\n",
              "      <td>ByteDance</td>\n",
              "      <td>140.0</td>\n",
              "      <td>June 2022[13]</td>\n",
              "      <td>Internet</td>\n",
              "      <td>China</td>\n",
              "      <td>Zhang Yiming, Liang Rubo</td>\n",
              "    </tr>\n",
              "    <tr>\n",
              "      <th>1</th>\n",
              "      <td>SpaceX</td>\n",
              "      <td>127.0</td>\n",
              "      <td>June 2022[13]</td>\n",
              "      <td>Aerospace</td>\n",
              "      <td>US</td>\n",
              "      <td>Elon Musk</td>\n",
              "    </tr>\n",
              "    <tr>\n",
              "      <th>2</th>\n",
              "      <td>Shein</td>\n",
              "      <td>100.0</td>\n",
              "      <td>June 2022[13]</td>\n",
              "      <td>E-commerce</td>\n",
              "      <td>China</td>\n",
              "      <td>Chris Xu</td>\n",
              "    </tr>\n",
              "    <tr>\n",
              "      <th>3</th>\n",
              "      <td>Stripe</td>\n",
              "      <td>50.0</td>\n",
              "      <td>March 2023[13]</td>\n",
              "      <td>Financial services</td>\n",
              "      <td>US / Ireland</td>\n",
              "      <td>Patrick and John Collison</td>\n",
              "    </tr>\n",
              "    <tr>\n",
              "      <th>4</th>\n",
              "      <td>Canva</td>\n",
              "      <td>40.0</td>\n",
              "      <td>September 2021[16]</td>\n",
              "      <td>Graphic design</td>\n",
              "      <td>Australia</td>\n",
              "      <td>Melanie Perkins, Clifford Obrecht, Cameron Adams</td>\n",
              "    </tr>\n",
              "  </tbody>\n",
              "</table>\n",
              "</div>\n",
              "      <button class=\"colab-df-convert\" onclick=\"convertToInteractive('df-df73b150-6eea-4424-bee3-5f8c1a32b083')\"\n",
              "              title=\"Convert this dataframe to an interactive table.\"\n",
              "              style=\"display:none;\">\n",
              "        \n",
              "  <svg xmlns=\"http://www.w3.org/2000/svg\" height=\"24px\"viewBox=\"0 0 24 24\"\n",
              "       width=\"24px\">\n",
              "    <path d=\"M0 0h24v24H0V0z\" fill=\"none\"/>\n",
              "    <path d=\"M18.56 5.44l.94 2.06.94-2.06 2.06-.94-2.06-.94-.94-2.06-.94 2.06-2.06.94zm-11 1L8.5 8.5l.94-2.06 2.06-.94-2.06-.94L8.5 2.5l-.94 2.06-2.06.94zm10 10l.94 2.06.94-2.06 2.06-.94-2.06-.94-.94-2.06-.94 2.06-2.06.94z\"/><path d=\"M17.41 7.96l-1.37-1.37c-.4-.4-.92-.59-1.43-.59-.52 0-1.04.2-1.43.59L10.3 9.45l-7.72 7.72c-.78.78-.78 2.05 0 2.83L4 21.41c.39.39.9.59 1.41.59.51 0 1.02-.2 1.41-.59l7.78-7.78 2.81-2.81c.8-.78.8-2.07 0-2.86zM5.41 20L4 18.59l7.72-7.72 1.47 1.35L5.41 20z\"/>\n",
              "  </svg>\n",
              "      </button>\n",
              "      \n",
              "  <style>\n",
              "    .colab-df-container {\n",
              "      display:flex;\n",
              "      flex-wrap:wrap;\n",
              "      gap: 12px;\n",
              "    }\n",
              "\n",
              "    .colab-df-convert {\n",
              "      background-color: #E8F0FE;\n",
              "      border: none;\n",
              "      border-radius: 50%;\n",
              "      cursor: pointer;\n",
              "      display: none;\n",
              "      fill: #1967D2;\n",
              "      height: 32px;\n",
              "      padding: 0 0 0 0;\n",
              "      width: 32px;\n",
              "    }\n",
              "\n",
              "    .colab-df-convert:hover {\n",
              "      background-color: #E2EBFA;\n",
              "      box-shadow: 0px 1px 2px rgba(60, 64, 67, 0.3), 0px 1px 3px 1px rgba(60, 64, 67, 0.15);\n",
              "      fill: #174EA6;\n",
              "    }\n",
              "\n",
              "    [theme=dark] .colab-df-convert {\n",
              "      background-color: #3B4455;\n",
              "      fill: #D2E3FC;\n",
              "    }\n",
              "\n",
              "    [theme=dark] .colab-df-convert:hover {\n",
              "      background-color: #434B5C;\n",
              "      box-shadow: 0px 1px 3px 1px rgba(0, 0, 0, 0.15);\n",
              "      filter: drop-shadow(0px 1px 2px rgba(0, 0, 0, 0.3));\n",
              "      fill: #FFFFFF;\n",
              "    }\n",
              "  </style>\n",
              "\n",
              "      <script>\n",
              "        const buttonEl =\n",
              "          document.querySelector('#df-df73b150-6eea-4424-bee3-5f8c1a32b083 button.colab-df-convert');\n",
              "        buttonEl.style.display =\n",
              "          google.colab.kernel.accessAllowed ? 'block' : 'none';\n",
              "\n",
              "        async function convertToInteractive(key) {\n",
              "          const element = document.querySelector('#df-df73b150-6eea-4424-bee3-5f8c1a32b083');\n",
              "          const dataTable =\n",
              "            await google.colab.kernel.invokeFunction('convertToInteractive',\n",
              "                                                     [key], {});\n",
              "          if (!dataTable) return;\n",
              "\n",
              "          const docLinkHtml = 'Like what you see? Visit the ' +\n",
              "            '<a target=\"_blank\" href=https://colab.research.google.com/notebooks/data_table.ipynb>data table notebook</a>'\n",
              "            + ' to learn more about interactive tables.';\n",
              "          element.innerHTML = '';\n",
              "          dataTable['output_type'] = 'display_data';\n",
              "          await google.colab.output.renderOutput(dataTable, element);\n",
              "          const docLink = document.createElement('div');\n",
              "          docLink.innerHTML = docLinkHtml;\n",
              "          element.appendChild(docLink);\n",
              "        }\n",
              "      </script>\n",
              "    </div>\n",
              "  </div>\n",
              "  "
            ]
          },
          "metadata": {},
          "execution_count": 72
        }
      ]
    },
    {
      "cell_type": "code",
      "source": [
        "df = df.drop([ 'Valuation date', 'Founder(s)'], axis=1)"
      ],
      "metadata": {
        "id": "B9TELlO2QijN"
      },
      "execution_count": 75,
      "outputs": []
    },
    {
      "cell_type": "code",
      "source": [
        "df.head()"
      ],
      "metadata": {
        "colab": {
          "base_uri": "https://localhost:8080/",
          "height": 206
        },
        "id": "Qrmktp6IRcst",
        "outputId": "b78c458a-ba5b-4eba-84d8-7d74984c4128"
      },
      "execution_count": 76,
      "outputs": [
        {
          "output_type": "execute_result",
          "data": {
            "text/plain": [
              "     Company  Valuation(US$ billions)            Industry Country/countries\n",
              "0  ByteDance                    140.0            Internet             China\n",
              "1     SpaceX                    127.0           Aerospace                US\n",
              "2      Shein                    100.0          E-commerce             China\n",
              "3     Stripe                     50.0  Financial services      US / Ireland\n",
              "4      Canva                     40.0      Graphic design         Australia"
            ],
            "text/html": [
              "\n",
              "  <div id=\"df-276b2c86-4b84-4a62-aecd-e5ecf018fa39\">\n",
              "    <div class=\"colab-df-container\">\n",
              "      <div>\n",
              "<style scoped>\n",
              "    .dataframe tbody tr th:only-of-type {\n",
              "        vertical-align: middle;\n",
              "    }\n",
              "\n",
              "    .dataframe tbody tr th {\n",
              "        vertical-align: top;\n",
              "    }\n",
              "\n",
              "    .dataframe thead th {\n",
              "        text-align: right;\n",
              "    }\n",
              "</style>\n",
              "<table border=\"1\" class=\"dataframe\">\n",
              "  <thead>\n",
              "    <tr style=\"text-align: right;\">\n",
              "      <th></th>\n",
              "      <th>Company</th>\n",
              "      <th>Valuation(US$ billions)</th>\n",
              "      <th>Industry</th>\n",
              "      <th>Country/countries</th>\n",
              "    </tr>\n",
              "  </thead>\n",
              "  <tbody>\n",
              "    <tr>\n",
              "      <th>0</th>\n",
              "      <td>ByteDance</td>\n",
              "      <td>140.0</td>\n",
              "      <td>Internet</td>\n",
              "      <td>China</td>\n",
              "    </tr>\n",
              "    <tr>\n",
              "      <th>1</th>\n",
              "      <td>SpaceX</td>\n",
              "      <td>127.0</td>\n",
              "      <td>Aerospace</td>\n",
              "      <td>US</td>\n",
              "    </tr>\n",
              "    <tr>\n",
              "      <th>2</th>\n",
              "      <td>Shein</td>\n",
              "      <td>100.0</td>\n",
              "      <td>E-commerce</td>\n",
              "      <td>China</td>\n",
              "    </tr>\n",
              "    <tr>\n",
              "      <th>3</th>\n",
              "      <td>Stripe</td>\n",
              "      <td>50.0</td>\n",
              "      <td>Financial services</td>\n",
              "      <td>US / Ireland</td>\n",
              "    </tr>\n",
              "    <tr>\n",
              "      <th>4</th>\n",
              "      <td>Canva</td>\n",
              "      <td>40.0</td>\n",
              "      <td>Graphic design</td>\n",
              "      <td>Australia</td>\n",
              "    </tr>\n",
              "  </tbody>\n",
              "</table>\n",
              "</div>\n",
              "      <button class=\"colab-df-convert\" onclick=\"convertToInteractive('df-276b2c86-4b84-4a62-aecd-e5ecf018fa39')\"\n",
              "              title=\"Convert this dataframe to an interactive table.\"\n",
              "              style=\"display:none;\">\n",
              "        \n",
              "  <svg xmlns=\"http://www.w3.org/2000/svg\" height=\"24px\"viewBox=\"0 0 24 24\"\n",
              "       width=\"24px\">\n",
              "    <path d=\"M0 0h24v24H0V0z\" fill=\"none\"/>\n",
              "    <path d=\"M18.56 5.44l.94 2.06.94-2.06 2.06-.94-2.06-.94-.94-2.06-.94 2.06-2.06.94zm-11 1L8.5 8.5l.94-2.06 2.06-.94-2.06-.94L8.5 2.5l-.94 2.06-2.06.94zm10 10l.94 2.06.94-2.06 2.06-.94-2.06-.94-.94-2.06-.94 2.06-2.06.94z\"/><path d=\"M17.41 7.96l-1.37-1.37c-.4-.4-.92-.59-1.43-.59-.52 0-1.04.2-1.43.59L10.3 9.45l-7.72 7.72c-.78.78-.78 2.05 0 2.83L4 21.41c.39.39.9.59 1.41.59.51 0 1.02-.2 1.41-.59l7.78-7.78 2.81-2.81c.8-.78.8-2.07 0-2.86zM5.41 20L4 18.59l7.72-7.72 1.47 1.35L5.41 20z\"/>\n",
              "  </svg>\n",
              "      </button>\n",
              "      \n",
              "  <style>\n",
              "    .colab-df-container {\n",
              "      display:flex;\n",
              "      flex-wrap:wrap;\n",
              "      gap: 12px;\n",
              "    }\n",
              "\n",
              "    .colab-df-convert {\n",
              "      background-color: #E8F0FE;\n",
              "      border: none;\n",
              "      border-radius: 50%;\n",
              "      cursor: pointer;\n",
              "      display: none;\n",
              "      fill: #1967D2;\n",
              "      height: 32px;\n",
              "      padding: 0 0 0 0;\n",
              "      width: 32px;\n",
              "    }\n",
              "\n",
              "    .colab-df-convert:hover {\n",
              "      background-color: #E2EBFA;\n",
              "      box-shadow: 0px 1px 2px rgba(60, 64, 67, 0.3), 0px 1px 3px 1px rgba(60, 64, 67, 0.15);\n",
              "      fill: #174EA6;\n",
              "    }\n",
              "\n",
              "    [theme=dark] .colab-df-convert {\n",
              "      background-color: #3B4455;\n",
              "      fill: #D2E3FC;\n",
              "    }\n",
              "\n",
              "    [theme=dark] .colab-df-convert:hover {\n",
              "      background-color: #434B5C;\n",
              "      box-shadow: 0px 1px 3px 1px rgba(0, 0, 0, 0.15);\n",
              "      filter: drop-shadow(0px 1px 2px rgba(0, 0, 0, 0.3));\n",
              "      fill: #FFFFFF;\n",
              "    }\n",
              "  </style>\n",
              "\n",
              "      <script>\n",
              "        const buttonEl =\n",
              "          document.querySelector('#df-276b2c86-4b84-4a62-aecd-e5ecf018fa39 button.colab-df-convert');\n",
              "        buttonEl.style.display =\n",
              "          google.colab.kernel.accessAllowed ? 'block' : 'none';\n",
              "\n",
              "        async function convertToInteractive(key) {\n",
              "          const element = document.querySelector('#df-276b2c86-4b84-4a62-aecd-e5ecf018fa39');\n",
              "          const dataTable =\n",
              "            await google.colab.kernel.invokeFunction('convertToInteractive',\n",
              "                                                     [key], {});\n",
              "          if (!dataTable) return;\n",
              "\n",
              "          const docLinkHtml = 'Like what you see? Visit the ' +\n",
              "            '<a target=\"_blank\" href=https://colab.research.google.com/notebooks/data_table.ipynb>data table notebook</a>'\n",
              "            + ' to learn more about interactive tables.';\n",
              "          element.innerHTML = '';\n",
              "          dataTable['output_type'] = 'display_data';\n",
              "          await google.colab.output.renderOutput(dataTable, element);\n",
              "          const docLink = document.createElement('div');\n",
              "          docLink.innerHTML = docLinkHtml;\n",
              "          element.appendChild(docLink);\n",
              "        }\n",
              "      </script>\n",
              "    </div>\n",
              "  </div>\n",
              "  "
            ]
          },
          "metadata": {},
          "execution_count": 76
        }
      ]
    },
    {
      "cell_type": "code",
      "source": [
        "print('# of record: ', df.shape[0])"
      ],
      "metadata": {
        "colab": {
          "base_uri": "https://localhost:8080/"
        },
        "id": "Dw7awPQzR_k9",
        "outputId": "1b075720-38fe-4587-dbb1-2b1fb7dc4c7a"
      },
      "execution_count": 80,
      "outputs": [
        {
          "output_type": "stream",
          "name": "stdout",
          "text": [
            "# of record:  133\n"
          ]
        }
      ]
    },
    {
      "cell_type": "code",
      "source": [
        "df['Valuation(US$ billions)'].mean()\n",
        "print('Average Valuation is ', df['Valuation(US$ billions)'].mean(), 'Billion dollars')"
      ],
      "metadata": {
        "colab": {
          "base_uri": "https://localhost:8080/"
        },
        "id": "XH720KjeR3o0",
        "outputId": "8c953f14-cff7-4a20-e7f0-836f4a4b8ce3"
      },
      "execution_count": 79,
      "outputs": [
        {
          "output_type": "stream",
          "name": "stdout",
          "text": [
            "Average Valuation is  9.74796992481203 Billion dollars\n"
          ]
        }
      ]
    },
    {
      "cell_type": "code",
      "source": [
        "print('There are ', (df['Country/countries']=='US').sum(), 'industries in the US')"
      ],
      "metadata": {
        "colab": {
          "base_uri": "https://localhost:8080/"
        },
        "id": "xxqj7IFCTpXY",
        "outputId": "4c200fd4-6715-4fda-eeb0-1132266930ce"
      },
      "execution_count": 86,
      "outputs": [
        {
          "output_type": "stream",
          "name": "stdout",
          "text": [
            "There are  48 industries in the US\n"
          ]
        }
      ]
    },
    {
      "cell_type": "code",
      "source": [],
      "metadata": {
        "id": "opQFEgUQUC61"
      },
      "execution_count": null,
      "outputs": []
    }
  ]
}